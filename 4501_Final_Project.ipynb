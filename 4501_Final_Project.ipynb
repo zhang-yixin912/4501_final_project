{
 "cells": [
  {
   "cell_type": "markdown",
   "id": "32f8ca24",
   "metadata": {},
   "source": [
    "# Understanding Hired Rides in NYC\n",
    "\n",
    "_[Project prompt](https://docs.google.com/document/d/1VERPjEZcC1XSs4-02aM-DbkNr_yaJVbFjLJxaYQswqA/edit#)_\n",
    "\n",
    "_This scaffolding notebook may be used to help setup your final project. It's **totally optional** whether you make use of this or not._\n",
    "\n",
    "_If you do use this notebook, everything provided is optional as well - you may remove or add prose and code as you wish._\n",
    "\n",
    "_Anything in italics (prose) or comments (in code) is meant to provide you with guidance. **Remove the italic lines and provided comments** before submitting the project, if you choose to use this scaffolding. We don't need the guidance when grading._\n",
    "\n",
    "_**All code below should be consider \"pseudo-code\" - not functional by itself, and only a suggestion at the approach.**_"
   ]
  },
  {
   "cell_type": "markdown",
   "id": "25627e8d",
   "metadata": {},
   "source": [
    "## Requirements\n",
    "\n",
    "_A checklist of requirements to keep you on track. Remove this whole cell before submitting the project._\n",
    "\n",
    "* Code clarity: make sure the code conforms to:\n",
    "    * [ ] [PEP 8](https://peps.python.org/pep-0008/) - You might find [this resource](https://realpython.com/python-pep8/) helpful as well as [this](https://github.com/dnanhkhoa/nb_black) or [this](https://jupyterlab-code-formatter.readthedocs.io/en/latest/) tool\n",
    "    * [ ] [PEP 257](https://peps.python.org/pep-0257/)\n",
    "    * [ ] Break each task down into logical functions\n",
    "* The following files are submitted for the project (see the project's GDoc for more details):\n",
    "    * [ ] `README.md`\n",
    "    * [ ] `requirements.txt`\n",
    "    * [ ] `.gitignore`\n",
    "    * [ ] `schema.sql`\n",
    "    * [ ] 6 query files (using the `.sql` extension), appropriately named for the purpose of the query\n",
    "    * [x] Jupyter Notebook containing the project (this file!)\n",
    "* [x] You can edit this cell and add a `x` inside the `[ ]` like this task to denote a completed task"
   ]
  },
  {
   "cell_type": "markdown",
   "id": "2f75fd94",
   "metadata": {},
   "source": [
    "## Project Setup"
   ]
  },
  {
   "cell_type": "code",
   "execution_count": 1,
   "id": "66dcde05",
   "metadata": {},
   "outputs": [],
   "source": [
    "# all import statements needed for the project, for example:\n",
    "\n",
    "import math\n",
    "import re\n",
    "import os\n",
    "import bs4\n",
    "import matplotlib.pyplot as plt\n",
    "import pandas as pd\n",
    "import geopandas\n",
    "import requests\n",
    "import sqlalchemy as db"
   ]
  },
  {
   "cell_type": "code",
   "execution_count": 2,
   "id": "8b622a58",
   "metadata": {},
   "outputs": [],
   "source": [
    "# any general notebook setup, like log formatting"
   ]
  },
  {
   "cell_type": "code",
   "execution_count": 3,
   "id": "3f1242c4",
   "metadata": {},
   "outputs": [],
   "source": [
    "# any constants you might need, for example:\n",
    "\n",
    "TAXI_URL = \"https://www1.nyc.gov/site/tlc/about/tlc-trip-record-data.page\"\n",
    "# add other constants to refer to any local data, e.g. uber & weather\n",
    "UBER_CSV = \"uber_rides_sample.csv\"\n",
    "\n",
    "NEW_YORK_BOX_COORDS = ((40.560445, -74.242330), (40.908524, -73.717047))\n",
    "\n",
    "DATABASE_URL = \"sqlite:///project.db\"\n",
    "DATABASE_SCHEMA_FILE = \"schema.sql\"\n",
    "QUERY_DIRECTORY = \"queries\""
   ]
  },
  {
   "cell_type": "markdown",
   "id": "26ad10ea",
   "metadata": {},
   "source": [
    "## Part 1: Data Preprocessing"
   ]
  },
  {
   "cell_type": "markdown",
   "id": "ecf38168",
   "metadata": {},
   "source": [
    "_A checklist of requirements to keep you on track. Remove this whole cell before submitting the project. The order of these tasks aren't necessarily the order in which they need to be done. It's okay to do them in an order that makes sense to you._\n",
    "\n",
    "* [X] Define a function that calculates the distance between two coordinates in kilometers that **only uses the `math` module** from the standard library.\n",
    "* [X] Taxi data:\n",
    "    * [X] Use the `re` module, and the packages `requests`, BeautifulSoup (`bs4`), and (optionally) `pandas` to programmatically download the required CSV files & load into memory.\n",
    "    * You may need to do this one file at a time - download, clean, sample. You can cache the sampling by saving it as a CSV file (and thereby freeing up memory on your computer) before moving onto the next file. \n",
    "* [ ] Weather & Uber data:\n",
    "    * [ ] Download the data manually in the link provided in the project doc.\n",
    "* [ ] All data:\n",
    "    * [X] Load the data using `pandas`\n",
    "    * [X] Clean the data, including:\n",
    "        * Remove unnecessary columns\n",
    "        * Remove invalid data points (take a moment to consider what's invalid)\n",
    "        * Normalize column names\n",
    "        * (Taxi & Uber data) Remove trips that start and/or end outside the designated [coordinate box](http://bboxfinder.com/#40.560445,-74.242330,40.908524,-73.717047)\n",
    "    * [X] (Taxi data) Sample the data so that you have roughly the same amount of data points over the given date range for both Taxi data and Uber data.\n",
    "* [ ] Weather data:\n",
    "    * [ ] Split into two `pandas` DataFrames: one for required hourly data, and one for the required daily daya.\n",
    "    * [ ] You may find that the weather data you need later on does not exist at the frequency needed (daily vs hourly). You may calculate/generate samples from one to populate the other. Just document what you’re doing so we can follow along. "
   ]
  },
  {
   "cell_type": "markdown",
   "id": "32074561",
   "metadata": {},
   "source": [
    "### Calculating distance\n",
    "_**TODO:** Write some prose that tells the reader what you're about to do here._"
   ]
  },
  {
   "cell_type": "code",
   "execution_count": 4,
   "id": "4cbbe6cc",
   "metadata": {},
   "outputs": [],
   "source": [
    "def calculate_distance(from_coord, to_coord): # from_coord, to_coord = [lat, lon]\n",
    "    # radius of earth in km\n",
    "    R = 6371\n",
    "\n",
    "    lat_from = math.radians(from_coord[0])\n",
    "    lon_from = math.radians(from_coord[1])\n",
    "    lat_to = math.radians(to_coord[0])\n",
    "    lon_to = math.radians(to_coord[1])\n",
    "\n",
    "    # Haversine formula: https://en.wikipedia.org/wiki/Haversine_formula\n",
    "    dlon = lon_to - lon_from\n",
    "    dlat = lat_to - lat_from\n",
    "    a = math.sin(dlat / 2)**2 + math.cos(lat_from) * math.cos(lat_to) * math.sin(dlon / 2)**2\n",
    "    d = 2 * R * math.asin(math.sqrt(a))\n",
    "    \n",
    "    return d   \n",
    "    "
   ]
  },
  {
   "cell_type": "code",
   "execution_count": 5,
   "id": "6d6abf52",
   "metadata": {},
   "outputs": [],
   "source": [
    "def add_distance_column(dataframe): \n",
    "    # dataframe contains pickup_latitude etc. after column name normalization   \n",
    "    dataframe['distance'] = dataframe.apply(\n",
    "        lambda x: calculate_distance([x[\"pickup_latitude\"],x[\"pickup_longitude\"]],\n",
    "                                     [x[\"dropoff_latitude\"],x[\"dropoff_longitude\"]]),\n",
    "        axis = 1\n",
    "    )"
   ]
  },
  {
   "cell_type": "markdown",
   "id": "93daa717",
   "metadata": {},
   "source": [
    "### Processing Taxi Data\n",
    "\n",
    "_**TODO:** Write some prose that tells the reader what you're about to do here._"
   ]
  },
  {
   "cell_type": "code",
   "execution_count": 6,
   "id": "99789ef7",
   "metadata": {},
   "outputs": [],
   "source": [
    "# should be move to top later \n",
    "import warnings\n",
    "warnings.filterwarnings(\"ignore\")"
   ]
  },
  {
   "cell_type": "code",
   "execution_count": 7,
   "id": "5a7366e8",
   "metadata": {},
   "outputs": [
    {
     "data": {
      "text/html": [
       "<div>\n",
       "<style scoped>\n",
       "    .dataframe tbody tr th:only-of-type {\n",
       "        vertical-align: middle;\n",
       "    }\n",
       "\n",
       "    .dataframe tbody tr th {\n",
       "        vertical-align: top;\n",
       "    }\n",
       "\n",
       "    .dataframe thead th {\n",
       "        text-align: right;\n",
       "    }\n",
       "</style>\n",
       "<table border=\"1\" class=\"dataframe\">\n",
       "  <thead>\n",
       "    <tr style=\"text-align: right;\">\n",
       "      <th></th>\n",
       "      <th>zone</th>\n",
       "      <th>LocationID</th>\n",
       "      <th>lon</th>\n",
       "      <th>lat</th>\n",
       "    </tr>\n",
       "  </thead>\n",
       "  <tbody>\n",
       "    <tr>\n",
       "      <th>0</th>\n",
       "      <td>Newark Airport</td>\n",
       "      <td>1</td>\n",
       "      <td>-74.174000</td>\n",
       "      <td>40.691831</td>\n",
       "    </tr>\n",
       "    <tr>\n",
       "      <th>1</th>\n",
       "      <td>Jamaica Bay</td>\n",
       "      <td>2</td>\n",
       "      <td>-73.831299</td>\n",
       "      <td>40.616745</td>\n",
       "    </tr>\n",
       "    <tr>\n",
       "      <th>2</th>\n",
       "      <td>Allerton/Pelham Gardens</td>\n",
       "      <td>3</td>\n",
       "      <td>-73.847422</td>\n",
       "      <td>40.864474</td>\n",
       "    </tr>\n",
       "    <tr>\n",
       "      <th>3</th>\n",
       "      <td>Alphabet City</td>\n",
       "      <td>4</td>\n",
       "      <td>-73.976968</td>\n",
       "      <td>40.723752</td>\n",
       "    </tr>\n",
       "    <tr>\n",
       "      <th>4</th>\n",
       "      <td>Arden Heights</td>\n",
       "      <td>5</td>\n",
       "      <td>-74.188484</td>\n",
       "      <td>40.552659</td>\n",
       "    </tr>\n",
       "  </tbody>\n",
       "</table>\n",
       "</div>"
      ],
      "text/plain": [
       "                      zone  LocationID        lon        lat\n",
       "0           Newark Airport           1 -74.174000  40.691831\n",
       "1              Jamaica Bay           2 -73.831299  40.616745\n",
       "2  Allerton/Pelham Gardens           3 -73.847422  40.864474\n",
       "3            Alphabet City           4 -73.976968  40.723752\n",
       "4            Arden Heights           5 -74.188484  40.552659"
      ]
     },
     "execution_count": 7,
     "metadata": {},
     "output_type": "execute_result"
    }
   ],
   "source": [
    "# can be deleted\n",
    "zones = geopandas.read_file(\"taxi_zones.shp\")\n",
    "zones = zones.to_crs(4326)\n",
    "zones['lon'] = zones.centroid.x\n",
    "zones['lat'] = zones.centroid.y\n",
    "zones = zones[[\"zone\", \"LocationID\", \"lon\", \"lat\"]]\n",
    "zones.head()"
   ]
  },
  {
   "cell_type": "code",
   "execution_count": 8,
   "id": "80b0159f",
   "metadata": {},
   "outputs": [],
   "source": [
    "def get_taxi_html():\n",
    "    response = requests.get(TAXI_URL)\n",
    "    html = response.content\n",
    "    return html"
   ]
  },
  {
   "cell_type": "code",
   "execution_count": 9,
   "id": "cbd0d198",
   "metadata": {},
   "outputs": [],
   "source": [
    "def find_taxi_csv_urls():\n",
    "    pattern = r\"Yellow Taxi Trip Records\"\n",
    "    content = get_taxi_html()\n",
    "    soup = bs4.BeautifulSoup(content, 'html.parser')\n",
    "    y_urls = [y['href'] for y in soup.find_all(title=pattern)]\n",
    "    # getting links from 2009-01 to 2015-06\n",
    "    y_urls = y_urls[-84:]\n",
    "    urls = [item for idx, item in enumerate(y_urls) if idx not in range(6, 12)]\n",
    "    return urls"
   ]
  },
  {
   "cell_type": "code",
   "execution_count": 10,
   "id": "2f40130a",
   "metadata": {},
   "outputs": [],
   "source": [
    "def get_and_clean_month_taxi_data(url):\n",
    "    \n",
    "    # download taxi data with url and save as dataframe\n",
    "    df = pd.read_parquet(url, engine='pyarrow')\n",
    "    \n",
    "    # looking up the latitude and longitude for some months where only location IDs and normalize column names\n",
    "    pattern1 = r\"LocationID\"\n",
    "    pattern2 = r\"latitude\"\n",
    "    pattern3 = r\"Lat\"\n",
    "    df_type = 0\n",
    "    for col in df.columns:\n",
    "        if re.search(pattern1, col):\n",
    "            df_type = 1 # 2011-01 to 2015-06          \n",
    "        if re.search(pattern2, col):\n",
    "            df_type = 2 # 2010-01 to 2010-12\n",
    "        if re.search(pattern3, col):\n",
    "            df_type = 3 # 2009-01 to 2009-12\n",
    "            \n",
    "    if df_type == 1:\n",
    "        # load and convert zone data\n",
    "        zones = geopandas.read_file(\"taxi_zones.shp\")\n",
    "        zones = zones.to_crs(4326)\n",
    "        zones['lon'] = zones.centroid.x\n",
    "        zones['lat'] = zones.centroid.y\n",
    "        zones = zones[[\"LocationID\", \"lon\", \"lat\"]]\n",
    "\n",
    "        # drop unnecessary columns\n",
    "        cols = ['tpep_pickup_datetime', 'tpep_dropoff_datetime','passenger_count', 'trip_distance', 'PULocationID', \n",
    "        'DOLocationID', 'fare_amount','tip_amount']\n",
    "        df = df[cols]\n",
    "        \n",
    "        # get pickup lattitude and longitude\n",
    "        df = df.merge(zones, left_on='PULocationID', right_on='LocationID', how='left')\n",
    "        df.drop([\"LocationID\"], axis=1, inplace=True)\n",
    "        df.rename({\"lon\": \"pickup_longitude\", \"lat\": \"pickup_latitude\"}, axis=1, inplace=True)\n",
    "        \n",
    "        # get dropoff lattitude and longitude\n",
    "        df = df.merge(zones, left_on='DOLocationID', right_on='LocationID', how='left')\n",
    "        df.drop([\"LocationID\"], axis=1, inplace=True)\n",
    "        df.rename({\"lon\": \"dropoff_longitude\", \"lat\": \"dropoff_latitude\"}, axis=1, inplace=True)\n",
    "        \n",
    "        # remove unnecessary columns\n",
    "        df.drop([\"PULocationID\", \"DOLocationID\"], axis=1, inplace=True)\n",
    "        \n",
    "        # remove nan values\n",
    "        df.dropna(inplace=True)\n",
    "\n",
    "        # normalize column names and types\n",
    "        df.rename(columns={'tpep_pickup_datetime': 'pickup_datetime', \n",
    "                           'tpep_dropoff_datetime': 'dropoff_datetime'},\n",
    "                  inplace=True)\n",
    "           \n",
    "    if df_type == 2:\n",
    "        cols = ['pickup_datetime', 'dropoff_datetime', 'passenger_count','trip_distance', 'pickup_longitude', \n",
    "                'pickup_latitude', 'dropoff_longitude', 'dropoff_latitude','fare_amount', 'tip_amount']\n",
    "        df = df[cols]\n",
    "        \n",
    "    if df_type == 3:\n",
    "        cols = ['Trip_Pickup_DateTime', 'Trip_Dropoff_DateTime','Passenger_Count', 'Trip_Distance', 'Start_Lon', \n",
    "                'Start_Lat','End_Lon', 'End_Lat','Fare_Amt', 'Tip_Amt']\n",
    "        df = df[cols]\n",
    "        \n",
    "        # normalize column names and types\n",
    "        df.rename(columns={'Trip_Pickup_DateTime': 'pickup_datetime', \n",
    "                           'Trip_Dropoff_DateTime': 'dropoff_datetime',\n",
    "                           'Passenger_Count': 'passenger_count',\n",
    "                           'Trip_Distance': 'trip_distance',\n",
    "                           'Start_Lon': 'pickup_longitude',\n",
    "                           'Start_Lat': 'pickup_latitude',\n",
    "                           'End_Lon': 'dropoff_longitude',\n",
    "                           'End_Lat': 'dropoff_latitude',\n",
    "                           'Fare_Amt': 'fare_amount',\n",
    "                           'Tip_Amt': 'tip_amount'\n",
    "                          },\n",
    "                  inplace=True)\n",
    "        \n",
    "    # drop nan values\n",
    "    df.dropna(inplace=True)\n",
    "    \n",
    "    # remove trips out side the designated coordbox (40.560445, -74.242330) and (40.908524, -73.717047)\n",
    "    df = df[(df[\"pickup_latitude\"] >= 40.560445) & (df[\"pickup_latitude\"] <= 40.908524)]\n",
    "    df = df[(df[\"pickup_longitude\"] >= -74.242330) & (df[\"pickup_longitude\"] <= -73.717047)]\n",
    "    df = df[(df[\"dropoff_latitude\"] >= 40.560445) & (df[\"dropoff_latitude\"] <= 40.908524)]\n",
    "    df = df[(df[\"dropoff_longitude\"] >= -74.242330) & (df[\"dropoff_longitude\"] <= -73.717047)]\n",
    "    \n",
    "    # drop 0 passenger trips\n",
    "    df = df[df[\"passenger_count\"] != 0]\n",
    "    \n",
    "    # drop trips with no fare \n",
    "    df = df[df[\"fare_amount\"] != 0]\n",
    "    \n",
    "    # drop trips with no distance between dropoff and pickup\n",
    "    df = df[(df[\"pickup_latitude\"] != df[\"dropoff_latitude\"]) | (df[\"pickup_longitude\"] != df[\"dropoff_longitude\"])]\n",
    "    df = df[df[\"trip_distance\"] != 0]\n",
    "\n",
    "    # normalize column types\n",
    "    df[\"pickup_datetime\"] = pd.to_datetime(df[\"pickup_datetime\"]) \n",
    "    df[\"dropoff_datetime\"] = pd.to_datetime(df[\"dropoff_datetime\"]) \n",
    "    \n",
    "    # sampling 2472 data for each month\n",
    "    df = df.sample(n=2472)\n",
    "    \n",
    "    # drop unnecessary columns\n",
    "    df.drop(['trip_distance'], axis=1, inplace=True)\n",
    "    df.reset_index(drop=True)\n",
    "    \n",
    "    # save to a csv file \n",
    "    df.to_csv(url, encoding='utf-8', index=False)\n",
    "    return df"
   ]
  },
  {
   "cell_type": "code",
   "execution_count": 11,
   "id": "35c9c0cd",
   "metadata": {},
   "outputs": [],
   "source": [
    "def get_and_clean_taxi_data():\n",
    "    all_taxi_dataframes = []\n",
    "    \n",
    "    all_csv_urls = find_taxi_csv_urls()\n",
    "    for csv_url in all_csv_urls:\n",
    "        # maybe: first try to see if you've downloaded this exact\n",
    "        # file already and saved it before trying again\n",
    "        dataframe = get_and_clean_month_taxi_data(csv_url)\n",
    "        add_distance_column(dataframe)\n",
    "        # maybe: if the file hasn't been saved, save it so you can\n",
    "        # avoid re-downloading it if you re-run the function\n",
    "        \n",
    "        all_taxi_dataframes.append(dataframe)\n",
    "        \n",
    "    # create one gigantic dataframe with data from every month needed\n",
    "    taxi_data = pd.concat(all_taxi_dataframes)\n",
    "    return taxi_data"
   ]
  },
  {
   "cell_type": "code",
   "execution_count": null,
   "id": "152899f9",
   "metadata": {},
   "outputs": [],
   "source": [
    "#taxi_data = get_and_clean_taxi_data()"
   ]
  },
  {
   "cell_type": "code",
   "execution_count": 12,
   "id": "494dfa52",
   "metadata": {},
   "outputs": [],
   "source": [
    "taxi_data = pd.read_csv(\"taxi_data.csv\")"
   ]
  },
  {
   "cell_type": "code",
   "execution_count": 13,
   "id": "4d092a81",
   "metadata": {},
   "outputs": [],
   "source": [
    "taxi_data.drop(\"Unnamed: 0\", axis=1, inplace=True)"
   ]
  },
  {
   "cell_type": "code",
   "execution_count": 14,
   "id": "3556d0b4",
   "metadata": {},
   "outputs": [
    {
     "data": {
      "text/html": [
       "<div>\n",
       "<style scoped>\n",
       "    .dataframe tbody tr th:only-of-type {\n",
       "        vertical-align: middle;\n",
       "    }\n",
       "\n",
       "    .dataframe tbody tr th {\n",
       "        vertical-align: top;\n",
       "    }\n",
       "\n",
       "    .dataframe thead th {\n",
       "        text-align: right;\n",
       "    }\n",
       "</style>\n",
       "<table border=\"1\" class=\"dataframe\">\n",
       "  <thead>\n",
       "    <tr style=\"text-align: right;\">\n",
       "      <th></th>\n",
       "      <th>pickup_datetime</th>\n",
       "      <th>dropoff_datetime</th>\n",
       "      <th>passenger_count</th>\n",
       "      <th>fare_amount</th>\n",
       "      <th>tip_amount</th>\n",
       "      <th>pickup_longitude</th>\n",
       "      <th>pickup_latitude</th>\n",
       "      <th>dropoff_longitude</th>\n",
       "      <th>dropoff_latitude</th>\n",
       "      <th>distance</th>\n",
       "    </tr>\n",
       "  </thead>\n",
       "  <tbody>\n",
       "    <tr>\n",
       "      <th>0</th>\n",
       "      <td>2009-01-01 02:07:42</td>\n",
       "      <td>2009-01-01 02:24:22</td>\n",
       "      <td>2</td>\n",
       "      <td>13.4</td>\n",
       "      <td>2.01</td>\n",
       "      <td>-73.992843</td>\n",
       "      <td>40.737283</td>\n",
       "      <td>-74.012868</td>\n",
       "      <td>40.708458</td>\n",
       "      <td>3.622301</td>\n",
       "    </tr>\n",
       "    <tr>\n",
       "      <th>1</th>\n",
       "      <td>2009-01-01 02:42:32</td>\n",
       "      <td>2009-01-01 02:50:20</td>\n",
       "      <td>1</td>\n",
       "      <td>7.4</td>\n",
       "      <td>0.00</td>\n",
       "      <td>-73.972229</td>\n",
       "      <td>40.689693</td>\n",
       "      <td>-73.992919</td>\n",
       "      <td>40.679139</td>\n",
       "      <td>2.102573</td>\n",
       "    </tr>\n",
       "    <tr>\n",
       "      <th>2</th>\n",
       "      <td>2009-01-01 03:08:09</td>\n",
       "      <td>2009-01-01 03:41:29</td>\n",
       "      <td>4</td>\n",
       "      <td>35.0</td>\n",
       "      <td>0.00</td>\n",
       "      <td>-74.005598</td>\n",
       "      <td>40.748357</td>\n",
       "      <td>-73.950937</td>\n",
       "      <td>40.596385</td>\n",
       "      <td>17.516012</td>\n",
       "    </tr>\n",
       "    <tr>\n",
       "      <th>3</th>\n",
       "      <td>2009-01-01 03:27:33</td>\n",
       "      <td>2009-01-01 03:36:41</td>\n",
       "      <td>1</td>\n",
       "      <td>5.4</td>\n",
       "      <td>0.00</td>\n",
       "      <td>-73.948160</td>\n",
       "      <td>40.778874</td>\n",
       "      <td>-73.960724</td>\n",
       "      <td>40.780947</td>\n",
       "      <td>1.082704</td>\n",
       "    </tr>\n",
       "    <tr>\n",
       "      <th>4</th>\n",
       "      <td>2009-01-01 03:43:08</td>\n",
       "      <td>2009-01-01 03:55:29</td>\n",
       "      <td>1</td>\n",
       "      <td>11.4</td>\n",
       "      <td>0.00</td>\n",
       "      <td>-73.960089</td>\n",
       "      <td>40.800659</td>\n",
       "      <td>-73.985232</td>\n",
       "      <td>40.762745</td>\n",
       "      <td>4.717511</td>\n",
       "    </tr>\n",
       "  </tbody>\n",
       "</table>\n",
       "</div>"
      ],
      "text/plain": [
       "       pickup_datetime     dropoff_datetime  passenger_count  fare_amount  \\\n",
       "0  2009-01-01 02:07:42  2009-01-01 02:24:22                2         13.4   \n",
       "1  2009-01-01 02:42:32  2009-01-01 02:50:20                1          7.4   \n",
       "2  2009-01-01 03:08:09  2009-01-01 03:41:29                4         35.0   \n",
       "3  2009-01-01 03:27:33  2009-01-01 03:36:41                1          5.4   \n",
       "4  2009-01-01 03:43:08  2009-01-01 03:55:29                1         11.4   \n",
       "\n",
       "   tip_amount  pickup_longitude  pickup_latitude  dropoff_longitude  \\\n",
       "0        2.01        -73.992843        40.737283         -74.012868   \n",
       "1        0.00        -73.972229        40.689693         -73.992919   \n",
       "2        0.00        -74.005598        40.748357         -73.950937   \n",
       "3        0.00        -73.948160        40.778874         -73.960724   \n",
       "4        0.00        -73.960089        40.800659         -73.985232   \n",
       "\n",
       "   dropoff_latitude   distance  \n",
       "0         40.708458   3.622301  \n",
       "1         40.679139   2.102573  \n",
       "2         40.596385  17.516012  \n",
       "3         40.780947   1.082704  \n",
       "4         40.762745   4.717511  "
      ]
     },
     "execution_count": 14,
     "metadata": {},
     "output_type": "execute_result"
    }
   ],
   "source": [
    "taxi_data.head()"
   ]
  },
  {
   "cell_type": "code",
   "execution_count": 39,
   "id": "589e8207",
   "metadata": {},
   "outputs": [
    {
     "data": {
      "text/plain": [
       "(192816, 10)"
      ]
     },
     "execution_count": 39,
     "metadata": {},
     "output_type": "execute_result"
    }
   ],
   "source": [
    "taxi_data.shape"
   ]
  },
  {
   "cell_type": "markdown",
   "id": "094b4d6d",
   "metadata": {},
   "source": [
    "### Processing Uber Data\n",
    "\n",
    "_**TODO:** Write some prose that tells the reader what you're about to do here._"
   ]
  },
  {
   "cell_type": "code",
   "execution_count": 98,
   "id": "7c58e3a2",
   "metadata": {},
   "outputs": [],
   "source": [
    "def load_and_clean_uber_data(csv_file):\n",
    "    df = pd.read_csv(csv_file)\n",
    "\n",
    "    # drop OTC in datetime\n",
    "    new = df[\"pickup_datetime\"].str.split(\" \", n = 2, expand = True)\n",
    "    df[\"pickup_datetime\"] = new[0] + \" \" + new[1]\n",
    "    \n",
    "    # convert to datetime\n",
    "    df[\"pickup_datetime\"] = pd.to_datetime(df[\"pickup_datetime\"])  \n",
    "     \n",
    "    # remove trips out side the designated coordbox (40.560445, -74.242330) and (40.908524, -73.717047)\n",
    "    df = df[(df[\"pickup_latitude\"] >= 40.560445) & (df[\"pickup_latitude\"] <= 40.908524)]\n",
    "    df = df[(df[\"pickup_longitude\"] >= -74.242330) & (df[\"pickup_longitude\"] <= -73.717047)]\n",
    "    df = df[(df[\"dropoff_latitude\"] >= 40.560445) & (df[\"dropoff_latitude\"] <= 40.908524)]\n",
    "    df = df[(df[\"dropoff_longitude\"] >= -74.242330) & (df[\"dropoff_longitude\"] <= -73.717047)]\n",
    "    \n",
    "    # drop 0 passenger trips\n",
    "    df = df[df[\"passenger_count\"] != 0]\n",
    "    \n",
    "    # drop trips with no fare \n",
    "    df = df[df[\"fare_amount\"] != 0]\n",
    "    \n",
    "    # drop trips with no distance between dropoff and pickup\n",
    "    df = df[(df[\"pickup_latitude\"] != df[\"dropoff_latitude\"]) | (df[\"pickup_longitude\"] != df[\"dropoff_longitude\"])]\n",
    "   \n",
    "    # drop unnecessary columns\n",
    "    df.drop(['Unnamed: 0', 'key'], axis=1, inplace=True)\n",
    "    \n",
    "    # change column order in accordance with taxi data\n",
    "    column_order = ['pickup_datetime', 'passenger_count', 'fare_amount', 'pickup_longitude',\n",
    "                    'pickup_latitude', 'dropoff_longitude', 'dropoff_latitude']          \n",
    "    df = df[column_order]\n",
    " \n",
    "    return df"
   ]
  },
  {
   "cell_type": "code",
   "execution_count": 16,
   "id": "f836f118",
   "metadata": {},
   "outputs": [],
   "source": [
    "def get_uber_data():\n",
    "    uber_dataframe = load_and_clean_uber_data(UBER_CSV)\n",
    "    add_distance_column(uber_dataframe)\n",
    "    \n",
    "    return uber_dataframe"
   ]
  },
  {
   "cell_type": "code",
   "execution_count": 17,
   "id": "e52894f1",
   "metadata": {},
   "outputs": [
    {
     "data": {
      "text/html": [
       "<div>\n",
       "<style scoped>\n",
       "    .dataframe tbody tr th:only-of-type {\n",
       "        vertical-align: middle;\n",
       "    }\n",
       "\n",
       "    .dataframe tbody tr th {\n",
       "        vertical-align: top;\n",
       "    }\n",
       "\n",
       "    .dataframe thead th {\n",
       "        text-align: right;\n",
       "    }\n",
       "</style>\n",
       "<table border=\"1\" class=\"dataframe\">\n",
       "  <thead>\n",
       "    <tr style=\"text-align: right;\">\n",
       "      <th></th>\n",
       "      <th>pickup_datetime</th>\n",
       "      <th>passenger_count</th>\n",
       "      <th>fare_amount</th>\n",
       "      <th>pickup_longitude</th>\n",
       "      <th>pickup_latitude</th>\n",
       "      <th>dropoff_longitude</th>\n",
       "      <th>dropoff_latitude</th>\n",
       "      <th>distance</th>\n",
       "    </tr>\n",
       "  </thead>\n",
       "  <tbody>\n",
       "    <tr>\n",
       "      <th>0</th>\n",
       "      <td>2015-05-07 19:52:06</td>\n",
       "      <td>1</td>\n",
       "      <td>7.5</td>\n",
       "      <td>-73.999817</td>\n",
       "      <td>40.738354</td>\n",
       "      <td>-73.999512</td>\n",
       "      <td>40.723217</td>\n",
       "      <td>1.683323</td>\n",
       "    </tr>\n",
       "    <tr>\n",
       "      <th>1</th>\n",
       "      <td>2009-07-17 20:04:56</td>\n",
       "      <td>1</td>\n",
       "      <td>7.7</td>\n",
       "      <td>-73.994355</td>\n",
       "      <td>40.728225</td>\n",
       "      <td>-73.994710</td>\n",
       "      <td>40.750325</td>\n",
       "      <td>2.457590</td>\n",
       "    </tr>\n",
       "    <tr>\n",
       "      <th>2</th>\n",
       "      <td>2009-08-24 21:45:00</td>\n",
       "      <td>1</td>\n",
       "      <td>12.9</td>\n",
       "      <td>-74.005043</td>\n",
       "      <td>40.740770</td>\n",
       "      <td>-73.962565</td>\n",
       "      <td>40.772647</td>\n",
       "      <td>5.036377</td>\n",
       "    </tr>\n",
       "    <tr>\n",
       "      <th>3</th>\n",
       "      <td>2009-06-26 08:22:21</td>\n",
       "      <td>3</td>\n",
       "      <td>5.3</td>\n",
       "      <td>-73.976124</td>\n",
       "      <td>40.790844</td>\n",
       "      <td>-73.965316</td>\n",
       "      <td>40.803349</td>\n",
       "      <td>1.661683</td>\n",
       "    </tr>\n",
       "    <tr>\n",
       "      <th>4</th>\n",
       "      <td>2014-08-28 17:47:00</td>\n",
       "      <td>5</td>\n",
       "      <td>16.0</td>\n",
       "      <td>-73.925023</td>\n",
       "      <td>40.744085</td>\n",
       "      <td>-73.973082</td>\n",
       "      <td>40.761247</td>\n",
       "      <td>4.475450</td>\n",
       "    </tr>\n",
       "  </tbody>\n",
       "</table>\n",
       "</div>"
      ],
      "text/plain": [
       "      pickup_datetime  passenger_count  fare_amount  pickup_longitude  \\\n",
       "0 2015-05-07 19:52:06                1          7.5        -73.999817   \n",
       "1 2009-07-17 20:04:56                1          7.7        -73.994355   \n",
       "2 2009-08-24 21:45:00                1         12.9        -74.005043   \n",
       "3 2009-06-26 08:22:21                3          5.3        -73.976124   \n",
       "4 2014-08-28 17:47:00                5         16.0        -73.925023   \n",
       "\n",
       "   pickup_latitude  dropoff_longitude  dropoff_latitude  distance  \n",
       "0        40.738354         -73.999512         40.723217  1.683323  \n",
       "1        40.728225         -73.994710         40.750325  2.457590  \n",
       "2        40.740770         -73.962565         40.772647  5.036377  \n",
       "3        40.790844         -73.965316         40.803349  1.661683  \n",
       "4        40.744085         -73.973082         40.761247  4.475450  "
      ]
     },
     "execution_count": 17,
     "metadata": {},
     "output_type": "execute_result"
    }
   ],
   "source": [
    "uber_dataframe = load_and_clean_uber_data(UBER_CSV)\n",
    "uber_data = get_uber_data()\n",
    "avg_mon_sample = int(len(uber_data) / (12 * 6 + 6))\n",
    "uber_data.head()"
   ]
  },
  {
   "cell_type": "code",
   "execution_count": 18,
   "id": "09dcf598",
   "metadata": {},
   "outputs": [
    {
     "data": {
      "text/plain": [
       "(192828, 8)"
      ]
     },
     "execution_count": 18,
     "metadata": {},
     "output_type": "execute_result"
    }
   ],
   "source": [
    "# check uber data shape, can be deleted\n",
    "uber_data.shape"
   ]
  },
  {
   "cell_type": "code",
   "execution_count": 19,
   "id": "2beacc35",
   "metadata": {},
   "outputs": [
    {
     "data": {
      "text/plain": [
       "pickup_datetime      0\n",
       "passenger_count      0\n",
       "fare_amount          0\n",
       "pickup_longitude     0\n",
       "pickup_latitude      0\n",
       "dropoff_longitude    0\n",
       "dropoff_latitude     0\n",
       "distance             0\n",
       "dtype: int64"
      ]
     },
     "execution_count": 19,
     "metadata": {},
     "output_type": "execute_result"
    }
   ],
   "source": [
    "# check nan values, can be deleted\n",
    "uber_data.isna().sum()"
   ]
  },
  {
   "cell_type": "code",
   "execution_count": 20,
   "id": "18dd46a3",
   "metadata": {},
   "outputs": [
    {
     "data": {
      "text/plain": [
       "2472"
      ]
     },
     "execution_count": 20,
     "metadata": {},
     "output_type": "execute_result"
    }
   ],
   "source": [
    "# can be deleted \n",
    "int(len(uber_data) / (12 * 6 + 6))\n",
    "            "
   ]
  },
  {
   "cell_type": "code",
   "execution_count": null,
   "id": "4cd04a3e",
   "metadata": {},
   "outputs": [],
   "source": []
  },
  {
   "cell_type": "markdown",
   "id": "45a15cbb",
   "metadata": {},
   "source": [
    "### Processing Weather Data\n",
    "\n",
    "_**TODO:** Write some prose that tells the reader what you're about to do here._"
   ]
  },
  {
   "cell_type": "code",
   "execution_count": 11,
   "id": "76e864ab",
   "metadata": {},
   "outputs": [],
   "source": [
    "def clean_month_weather_data_hourly(csv_file):\n",
    "    const_col = [\"DATE\",\"LATITUDE\",\"LONGITUDE\"]\n",
    "    hourly_cols = [\"HourlyPrecipitation\", \"HourlyWindSpeed\"]\n",
    "    daily_col = [\"DailyPrecipitation\", \"DailyAverageWindSpeed\", \"DailySustainedWindSpeed\"]\n",
    "    # drop nan values\n",
    "    pass\n",
    "    # calculate missing hourly data with daily data"
   ]
  },
  {
   "cell_type": "code",
   "execution_count": null,
   "id": "0687581f",
   "metadata": {},
   "outputs": [],
   "source": [
    "def clean_month_weather_data_daily(csv_file):\n",
    "    #raise NotImplemented()\n",
    "    pass"
   ]
  },
  {
   "cell_type": "code",
   "execution_count": null,
   "id": "3ef8945d",
   "metadata": {},
   "outputs": [],
   "source": [
    "# extra credit part\n",
    "'''\n",
    "def load_and_clean_weather_data():\n",
    "    hourly_dataframes = []\n",
    "    daily_dataframes = []\n",
    "    \n",
    "    # add some way to find all weather CSV files\n",
    "    # or just add the name/paths manually\n",
    "    weather_csv_files = [\"TODO\"]\n",
    "    \n",
    "    for csv_file in weather_csv_files:\n",
    "        hourly_dataframe = clean_month_weather_data_hourly(csv_file)\n",
    "        daily_dataframe = clean_month_weather_data_daily(csv_file)\n",
    "        hourly_dataframes.append(hourly_dataframe)\n",
    "        daily_dataframes.append(daily_dataframe)\n",
    "        \n",
    "    # create two dataframes with hourly & daily data from every month\n",
    "    hourly_data = pd.concat(hourly_dataframes)\n",
    "    daily_data = pd.concat(daily_dataframes)\n",
    "    \n",
    "    return hourly_data, daily_data\n",
    "    \n",
    "'''"
   ]
  },
  {
   "cell_type": "markdown",
   "id": "f900f7aa",
   "metadata": {},
   "source": [
    "### Process All Data\n",
    "\n",
    "_This is where you can actually execute all the required functions._\n",
    "\n",
    "_**TODO:** Write some prose that tells the reader what you're about to do here._"
   ]
  },
  {
   "cell_type": "code",
   "execution_count": null,
   "id": "f7cd53a6",
   "metadata": {},
   "outputs": [],
   "source": [
    "#taxi_data = get_and_clean_taxi_data()\n",
    "#uber_data = get_uber_data()\n",
    "#hourly_weather_data, daily_weather_data = load_and_clean_weather_data()"
   ]
  },
  {
   "cell_type": "markdown",
   "id": "dd101f11",
   "metadata": {},
   "source": [
    "## Part 2: Storing Cleaned Data\n",
    "\n",
    "_Write some prose that tells the reader what you're about to do here._"
   ]
  },
  {
   "cell_type": "code",
   "execution_count": 30,
   "id": "f3529cf6",
   "metadata": {},
   "outputs": [],
   "source": [
    "engine = db.create_engine(DATABASE_URL)"
   ]
  },
  {
   "cell_type": "code",
   "execution_count": 31,
   "id": "d2bea0ff",
   "metadata": {},
   "outputs": [],
   "source": [
    "# if using SQL (as opposed to SQLAlchemy), define the commands \n",
    "# to create your 4 tables/dataframes\n",
    "'''HOURLY_WEATHER_SCHEMA = \"\"\"\n",
    "TODO\n",
    "\"\"\"\n",
    "'''\n",
    "\n",
    "'''\n",
    "DAILY_WEATHER_SCHEMA = \"\"\"\n",
    "TODO\n",
    "\"\"\"\n",
    "'''\n",
    "\n",
    "TAXI_TRIPS_SCHEMA = \"\"\"\n",
    "CREATE TABLE IF NOT EXISTS taxi_trips\n",
    "(\n",
    "    id INTEGER PRIMARY KEY,\n",
    "    pickup_datetime DATETIME,\n",
    "    dropoff_datetime DATETIME,\n",
    "    passenger_count INTEGER,\n",
    "    fare_amount FLOAT,\n",
    "    tip_amount FLOAT,\n",
    "    pickup_longitude FLOAT,\n",
    "    pickup_latitude FLOAT,\n",
    "    dropoff_longitude FLOAT,\n",
    "    dropoff_latitude FLOAT,\n",
    "    distance FLOAT\n",
    ")\n",
    "\"\"\"\n",
    "\n",
    "UBER_TRIPS_SCHEMA = \"\"\"\n",
    "CREATE TABLE IF NOT EXISTS uber_trips\n",
    "(\n",
    "    id INTEGER PRIMARY KEY,\n",
    "    pickup_datetime DATETIME,\n",
    "    passenger_count INTEGER,\n",
    "    fare_amount FLOAT,\n",
    "    pickup_longitude FLOAT,\n",
    "    pickup_latitude FLOAT,\n",
    "    dropoff_longitude FLOAT,\n",
    "    dropoff_latitude FLOAT,\n",
    "    distance FLOAT\n",
    ")\n",
    "\"\"\""
   ]
  },
  {
   "cell_type": "code",
   "execution_count": 32,
   "id": "5f41e54b",
   "metadata": {},
   "outputs": [],
   "source": [
    "# create that required schema.sql file\n",
    "with open(DATABASE_SCHEMA_FILE, \"w\") as f:\n",
    "    #f.write(HOURLY_WEATHER_SCHEMA)\n",
    "    #f.write(DAILY_WEATHER_SCHEMA)\n",
    "    f.write(TAXI_TRIPS_SCHEMA)\n",
    "    f.write(UBER_TRIPS_SCHEMA)"
   ]
  },
  {
   "cell_type": "code",
   "execution_count": 33,
   "id": "02eccdba",
   "metadata": {},
   "outputs": [],
   "source": [
    "# create the tables with the schema files\n",
    "with engine.connect() as connection:\n",
    "    connection.execute(TAXI_TRIPS_SCHEMA)\n",
    "    connection.execute(UBER_TRIPS_SCHEMA)\n",
    "    "
   ]
  },
  {
   "cell_type": "markdown",
   "id": "c122964f",
   "metadata": {},
   "source": [
    "### Add Data to Database\n",
    "\n",
    "_**TODO:** Write some prose that tells the reader what you're about to do here._"
   ]
  },
  {
   "cell_type": "code",
   "execution_count": 34,
   "id": "0e68a363",
   "metadata": {},
   "outputs": [],
   "source": [
    "def write_dataframes_to_table(table_to_df_dict):\n",
    "    for key, value in table_to_df_dict.items():\n",
    "        value.to_sql(key, con=engine, if_exists='append', index=False)\n",
    "    "
   ]
  },
  {
   "cell_type": "code",
   "execution_count": 51,
   "id": "c64f77c8",
   "metadata": {},
   "outputs": [],
   "source": [
    "def write_dataframes_to_table(table_to_df_dict):\n",
    "    for key in table_to_df_dict.keys():\n",
    "        table_to_df_dict[key].to_sql(key, con=engine, if_exists='append', index=False)"
   ]
  },
  {
   "cell_type": "code",
   "execution_count": 35,
   "id": "45d6c06c",
   "metadata": {},
   "outputs": [],
   "source": [
    "map_table_name_to_dataframe = {\n",
    "    \"taxi_trips\": taxi_data,\n",
    "    \"uber_trips\": uber_data,\n",
    "    #\"hourly_weather\": hourly_data,\n",
    "    #\"daily_weather\": daily_data,\n",
    "}\n"
   ]
  },
  {
   "cell_type": "code",
   "execution_count": 36,
   "id": "74004f96",
   "metadata": {},
   "outputs": [],
   "source": [
    "write_dataframes_to_table(map_table_name_to_dataframe)"
   ]
  },
  {
   "cell_type": "code",
   "execution_count": 37,
   "id": "289094ec",
   "metadata": {},
   "outputs": [
    {
     "name": "stdout",
     "output_type": "stream",
     "text": [
      "(1, '2009-01-01 02:07:42', '2009-01-01 02:24:22', 2, 13.4, 2.01, -73.99284299999998, 40.737283, -74.01286799999998, 40.708458, 3.62230086821533)\n",
      "(2, '2009-01-01 02:42:32', '2009-01-01 02:50:20', 1, 7.4, 0.0, -73.972229, 40.689693, -73.992919, 40.679139, 2.102573266751841)\n",
      "(3, '2009-01-01 03:08:09', '2009-01-01 03:41:29', 4, 35.0, 0.0, -74.005598, 40.748357, -73.95093699999998, 40.596385, 17.5160124129064)\n",
      "(4, '2009-01-01 03:27:33', '2009-01-01 03:36:41', 1, 5.4, 0.0, -73.94816, 40.778874, -73.960724, 40.780947, 1.0827042097946826)\n",
      "(5, '2009-01-01 03:43:08', '2009-01-01 03:55:29', 1, 11.4, 0.0, -73.96008899999998, 40.800659, -73.98523199999998, 40.762745, 4.717510748237535)\n",
      "(6, '2009-01-01 04:26:54', '2009-01-01 04:31:52', 1, 5.4, 0.0, -74.00213999999998, 40.732779, -74.006527, 40.738482, 0.7340062925608284)\n",
      "(7, '2009-01-01 04:32:47', '2009-01-01 04:38:53', 1, 7.4, 0.0, -73.802509, 40.761286, -73.830185, 40.759464, 2.3397777711756422)\n",
      "(8, '2009-01-01 04:53:24', '2009-01-01 05:12:17', 2, 15.0, 2.25, -73.9942, 40.720011, -73.974587, 40.778034, 6.660045865449543)\n",
      "(9, '2009-01-01 06:25:33', '2009-01-01 06:42:38', 2, 22.1, 5.25, -73.985377, 40.753671, -73.86995299999998, 40.7702, 9.8934880727656)\n",
      "(10, '2009-01-01 09:49:05', '2009-01-01 09:57:03', 1, 7.7, 0.0, -73.993871, 40.720511, -74.000749, 40.742171, 2.47722851241477)\n"
     ]
    }
   ],
   "source": [
    "# can be deleted\n",
    "with engine.connect() as connection:\n",
    "    for row in connection.execute(\"SELECT * FROM taxi_trips ORDER BY id ASC limit 10\"):\n",
    "        print(row)"
   ]
  },
  {
   "cell_type": "code",
   "execution_count": 38,
   "id": "ca579a33",
   "metadata": {},
   "outputs": [
    {
     "name": "stdout",
     "output_type": "stream",
     "text": [
      "192816\n"
     ]
    }
   ],
   "source": [
    "count = 0\n",
    "for i in engine.execute(\"SELECT * FROM taxi_trips\"):\n",
    "    count+=1\n",
    "    \n",
    "print(count)"
   ]
  },
  {
   "cell_type": "markdown",
   "id": "8cb6e33e",
   "metadata": {},
   "source": [
    "## Part 3: Understanding the Data"
   ]
  },
  {
   "cell_type": "markdown",
   "id": "b4753fcd",
   "metadata": {},
   "source": [
    "_A checklist of requirements to keep you on track. Remove this whole cell before submitting the project. The order of these tasks aren't necessarily the order in which they need to be done. It's okay to do them in an order that makes sense to you._\n",
    "\n",
    "* [X] For 01-2009 through 06-2015, what hour of the day was the most popular to take a yellow taxi? The result should have 24 bins.\n",
    "* [X] For the same time frame, what day of the week was the most popular to take an uber? The result should have 7 bins.\n",
    "* [X] What is the 95% percentile of distance traveled for all hired trips during July 2013?\n",
    "* [X] What were the top 10 days with the highest number of hired rides for 2009, and what was the average distance for each day?\n",
    "* [ ] Which 10 days in 2014 were the windiest, and how many hired trips were made on those days?\n",
    "* [ ] During Hurricane Sandy in NYC (Oct 29-30, 2012) and the week leading up to it, how many trips were taken each hour, and for each hour, how much precipitation did NYC receive and what was the sustained wind speed?"
   ]
  },
  {
   "cell_type": "code",
   "execution_count": 40,
   "id": "6a849e92",
   "metadata": {},
   "outputs": [],
   "source": [
    "def write_query_to_file(query, outfile):\n",
    "    with open(outfile, \"w\") as f:\n",
    "        f.write(query)\n"
   ]
  },
  {
   "cell_type": "markdown",
   "id": "ee70a777",
   "metadata": {},
   "source": [
    "### Query 1\n",
    "\n",
    "_**TODO:** Write some prose that tells the reader what you're about to do here._\n",
    "\n",
    "_Repeat for each query_"
   ]
  },
  {
   "cell_type": "code",
   "execution_count": 41,
   "id": "db871d3c",
   "metadata": {},
   "outputs": [],
   "source": [
    "TOP_HOUR_TAXI = \"\"\"\n",
    "WITH cte_hourly_taxi_trips AS(\n",
    "    SELECT strftime('%H',  pickup_datetime) AS hour, COUNT(id) AS trip_counts\n",
    "    FROM taxi_trips\n",
    "    GROUP BY hour\n",
    ")\n",
    "SELECT * FROM cte_hourly_taxi_trips ORDER BY trip_counts DESC \n",
    "\"\"\""
   ]
  },
  {
   "cell_type": "code",
   "execution_count": 42,
   "id": "c5275f3a",
   "metadata": {},
   "outputs": [
    {
     "data": {
      "text/plain": [
       "[('19', 12117),\n",
       " ('18', 11424),\n",
       " ('20', 11389),\n",
       " ('21', 11101),\n",
       " ('22', 10838),\n",
       " ('14', 9721),\n",
       " ('17', 9573),\n",
       " ('23', 9542),\n",
       " ('12', 9436),\n",
       " ('13', 9401),\n",
       " ('15', 9262),\n",
       " ('11', 9076),\n",
       " ('09', 8959),\n",
       " ('08', 8656),\n",
       " ('10', 8635),\n",
       " ('16', 7978),\n",
       " ('00', 7758),\n",
       " ('07', 7066),\n",
       " ('01', 5786),\n",
       " ('02', 4118),\n",
       " ('06', 3917),\n",
       " ('03', 3125),\n",
       " ('04', 2149),\n",
       " ('05', 1789)]"
      ]
     },
     "execution_count": 42,
     "metadata": {},
     "output_type": "execute_result"
    }
   ],
   "source": [
    "engine.execute(TOP_HOUR_TAXI).fetchall()"
   ]
  },
  {
   "cell_type": "code",
   "execution_count": 43,
   "id": "a2ef04df",
   "metadata": {},
   "outputs": [],
   "source": [
    "write_query_to_file(TOP_HOUR_TAXI, \"top_hour_taxi.sql\")"
   ]
  },
  {
   "cell_type": "markdown",
   "id": "b67e5bc1",
   "metadata": {},
   "source": [
    "### Query 2\n",
    "\n",
    "_**TODO:** Write some prose that tells the reader what you're about to do here._\n",
    "\n",
    "_Repeat for each query_"
   ]
  },
  {
   "cell_type": "code",
   "execution_count": 44,
   "id": "a2c4123e",
   "metadata": {},
   "outputs": [],
   "source": [
    "TOP_DAY_UBER = \"\"\"\n",
    "WITH cte_daily_uber_trips AS(\n",
    "    SELECT strftime('%w',  pickup_datetime) AS hour, COUNT(id) AS trip_counts\n",
    "    FROM uber_trips\n",
    "    GROUP BY hour\n",
    ")\n",
    "SELECT * FROM cte_daily_uber_trips ORDER BY trip_counts DESC \n",
    "\"\"\""
   ]
  },
  {
   "cell_type": "code",
   "execution_count": 45,
   "id": "dc2d6676",
   "metadata": {},
   "outputs": [
    {
     "data": {
      "text/plain": [
       "[('5', 29749),\n",
       " ('6', 29213),\n",
       " ('4', 28960),\n",
       " ('3', 27971),\n",
       " ('2', 27152),\n",
       " ('0', 25503),\n",
       " ('1', 24280)]"
      ]
     },
     "execution_count": 45,
     "metadata": {},
     "output_type": "execute_result"
    }
   ],
   "source": [
    "engine.execute(TOP_DAY_UBER).fetchall()"
   ]
  },
  {
   "cell_type": "code",
   "execution_count": 46,
   "id": "c1bc85a1",
   "metadata": {},
   "outputs": [],
   "source": [
    "write_query_to_file(TOP_DAY_UBER, \"top_day_uber.sql\")"
   ]
  },
  {
   "cell_type": "markdown",
   "id": "5625abc6",
   "metadata": {},
   "source": [
    "### Query 3\n",
    "\n",
    "_**TODO:** Write some prose that tells the reader what you're about to do here._\n",
    "\n",
    "_Repeat for each query_"
   ]
  },
  {
   "cell_type": "code",
   "execution_count": 90,
   "id": "72dba0d8",
   "metadata": {},
   "outputs": [],
   "source": [
    "DIST_95_PERCENTILE = \"\"\"\n",
    "WITH cte_distance AS(\n",
    "    SELECT strftime('%Y-%m-%d', pickup_datetime) as date, distance\n",
    "    FROM taxi_trips\n",
    "    WHERE date < '2013-08-01' AND date >= '2013-07-01'\n",
    "    UNION ALL\n",
    "    SELECT strftime('%Y-%m-%d', pickup_datetime) as date, distance\n",
    "    FROM uber_trips\n",
    "    WHERE date < '2013-08-01' AND date >= '2013-07-01'\n",
    "),\n",
    "dist_percentile AS (\n",
    "    SELECT distance, NTILE(100) OVER(ORDER BY distance ASC) AS percentile\n",
    "    FROM cte_distance\n",
    ")\n",
    "SELECT MAX(distance) FROM dist_percentile WHERE percentile = 95\n",
    "\"\"\""
   ]
  },
  {
   "cell_type": "code",
   "execution_count": 91,
   "id": "80ced14e",
   "metadata": {},
   "outputs": [
    {
     "data": {
      "text/plain": [
       "[(10.371616541970583,)]"
      ]
     },
     "execution_count": 91,
     "metadata": {},
     "output_type": "execute_result"
    }
   ],
   "source": [
    "engine.execute(DIST_95_PERCENTILE).fetchall()"
   ]
  },
  {
   "cell_type": "code",
   "execution_count": 89,
   "id": "c4fec17b",
   "metadata": {},
   "outputs": [],
   "source": [
    "write_query_to_file(DIST_95_PERCENTILE, \"dist_95_percentile.sql\")"
   ]
  },
  {
   "cell_type": "code",
   "execution_count": 94,
   "id": "264fe660",
   "metadata": {},
   "outputs": [],
   "source": [
    "# test, can be deleted later\n",
    "DIST_95_PERCENTILE = \"\"\"\n",
    "WITH cte_distance AS(\n",
    "    SELECT strftime('%Y-%m-%d', pickup_datetime) as date, distance\n",
    "    FROM taxi_trips\n",
    "    WHERE date < '2013-08-01' AND date >= '2013-07-01'\n",
    "    UNION ALL\n",
    "    SELECT strftime('%Y-%m-%d', pickup_datetime) as date, distance\n",
    "    FROM uber_trips\n",
    "    WHERE date < '2013-08-01' AND date >= '2013-07-01'\n",
    ")\n",
    "SELECT distance FROM cte_distance\n",
    "\"\"\""
   ]
  },
  {
   "cell_type": "code",
   "execution_count": 97,
   "id": "08f47433",
   "metadata": {},
   "outputs": [
    {
     "data": {
      "text/plain": [
       "10.371616541970583"
      ]
     },
     "execution_count": 97,
     "metadata": {},
     "output_type": "execute_result"
    }
   ],
   "source": [
    "# test using df\n",
    "import numpy as np\n",
    "l = []\n",
    "for i in engine.execute(DIST_95_PERCENTILE).fetchall():\n",
    "    dist, = i\n",
    "    l.append(dist)\n",
    "l = np.array(l)\n",
    "p95 = np.percentile(l, 95)\n",
    "\n",
    "p95 "
   ]
  },
  {
   "cell_type": "markdown",
   "id": "8d5d6589",
   "metadata": {},
   "source": [
    "### Query 4\n",
    "\n",
    "_**TODO:** Write some prose that tells the reader what you're about to do here._\n",
    "\n",
    "What were the top 10 days with the highest number of hired rides for 2009, and what was the average distance for each day?"
   ]
  },
  {
   "cell_type": "code",
   "execution_count": 116,
   "id": "eb2a159c",
   "metadata": {},
   "outputs": [],
   "source": [
    "TOP_10_RIDE_DAY = \"\"\"\n",
    "WITH cte_rides_days AS(\n",
    "    SELECT strftime('%Y-%m-%d', pickup_datetime) as date, COUNT(id) AS count, SUM(distance) AS dist_sum\n",
    "    FROM taxi_trips\n",
    "    WHERE date < '2010-01-01' AND date >= '2009-01-01'\n",
    "    GROUP BY date\n",
    "    UNION ALL\n",
    "    SELECT strftime('%Y-%m-%d', pickup_datetime) as date, COUNT(id) AS count, SUM(distance) AS dist_sum\n",
    "    FROM uber_trips\n",
    "    WHERE date < '2010-01-01' AND date >= '2009-01-01'\n",
    "    GROUP BY date\n",
    ")\n",
    "SELECT date, count, dist_sum / count FROM cte_rides_days ORDER BY count DESC LIMIT 10\n",
    "\"\"\""
   ]
  },
  {
   "cell_type": "code",
   "execution_count": 117,
   "id": "51ed9f3d",
   "metadata": {},
   "outputs": [
    {
     "data": {
      "text/plain": [
       "[('2009-12-11', 127, 2.975892034720371),\n",
       " ('2009-10-23', 121, 2.4930037783117567),\n",
       " ('2009-02-06', 119, 3.1583094263812006),\n",
       " ('2009-08-14', 118, 3.5786906513189383),\n",
       " ('2009-02-28', 117, 2.8639458432343146),\n",
       " ('2009-02-13', 113, 3.228174601506392),\n",
       " ('2009-04-18', 113, 3.3297941252720924),\n",
       " ('2009-07-17', 109, 3.3269789532684335),\n",
       " ('2009-11-12', 109, 2.835980708871698),\n",
       " ('2009-11-20', 109, 3.19047368312765)]"
      ]
     },
     "execution_count": 117,
     "metadata": {},
     "output_type": "execute_result"
    }
   ],
   "source": [
    "engine.execute(TOP_10_RIDE_DAY ).fetchall()"
   ]
  },
  {
   "cell_type": "code",
   "execution_count": 118,
   "id": "7a729716",
   "metadata": {},
   "outputs": [],
   "source": [
    "write_query_to_file(TOP_10_RIDE_DAY, \"top_10_ride_day.sql\")"
   ]
  },
  {
   "cell_type": "code",
   "execution_count": 121,
   "id": "89b045ec",
   "metadata": {},
   "outputs": [],
   "source": [
    "# test can be deleted\n",
    "TOP_10_RIDE_DAY = \"\"\"\n",
    "WITH cte_rides_days AS(\n",
    "    SELECT strftime('%Y-%m-%d', pickup_datetime) as date, id\n",
    "    FROM taxi_trips\n",
    "    WHERE date < '2010-01-01' AND date >= '2009-01-01'\n",
    "    UNION ALL\n",
    "    SELECT strftime('%Y-%m-%d', pickup_datetime) as date, id\n",
    "    FROM uber_trips\n",
    "    WHERE date < '2010-01-01' AND date >= '2009-01-01'\n",
    ")\n",
    "SELECT * FROM cte_rides_days\n",
    "\"\"\""
   ]
  },
  {
   "cell_type": "code",
   "execution_count": 123,
   "id": "a5d8629e",
   "metadata": {},
   "outputs": [
    {
     "data": {
      "text/plain": [
       "59389"
      ]
     },
     "execution_count": 123,
     "metadata": {},
     "output_type": "execute_result"
    }
   ],
   "source": [
    "# test can be deleted\n",
    "count = 0\n",
    "for i in engine.execute(TOP_10_RIDE_DAY).fetchall():\n",
    "    count+=1\n",
    "count"
   ]
  },
  {
   "cell_type": "code",
   "execution_count": null,
   "id": "890b1ba5",
   "metadata": {},
   "outputs": [],
   "source": []
  },
  {
   "cell_type": "markdown",
   "id": "a13ced42",
   "metadata": {},
   "source": [
    "## Part 4: Visualizing the Data\n",
    "\n",
    "_A checklist of requirements to keep you on track. Remove this whole cell before submitting the project. The order of these tasks aren't necessarily the order in which they need to be done. It's okay to do them in an order that makes sense to you._\n",
    "\n",
    "* [ ] Create an appropriate visualization for the first query/question in part 3\n",
    "* [ ] Create a visualization that shows the average distance traveled per month (regardless of year - so group by each month). Include the 90% confidence interval around the mean in the visualization\n",
    "* [ ] Define three lat/long coordinate boxes around the three major New York airports: LGA, JFK, and EWR (you can use bboxfinder to help). Create a visualization that compares what day of the week was most popular for drop offs for each airport.\n",
    "* [ ] Create a heatmap of all hired trips over a map of the area. Consider using KeplerGL or another library that helps generate geospatial visualizations.\n",
    "* [ ] Create a scatter plot that compares tip amount versus distance.\n",
    "* [ ] Create another scatter plot that compares tip amount versus precipitation amount.\n",
    "\n",
    "_Be sure these cells are executed so that the visualizations are rendered when the notebook is submitted._"
   ]
  },
  {
   "cell_type": "markdown",
   "id": "6d9eef42",
   "metadata": {},
   "source": [
    "### Visualization N\n",
    "\n",
    "_**TODO:** Write some prose that tells the reader what you're about to do here._\n",
    "\n",
    "_Repeat for each visualization._\n",
    "\n",
    "_The example below makes use of the `matplotlib` library. There are other libraries, including `pandas` built-in plotting library, kepler for geospatial data representation, `seaborn`, and others._"
   ]
  },
  {
   "cell_type": "code",
   "execution_count": 19,
   "id": "0de8394c",
   "metadata": {},
   "outputs": [],
   "source": [
    "# use a more descriptive name for your function\n",
    "def plot_visual_1(dataframe):\n",
    "    figure, axes = plt.subplots(figsize=(20, 10))\n",
    "    \n",
    "    values = \"...\"  # use the dataframe to pull out values needed to plot\n",
    "    \n",
    "    # you may want to use matplotlib to plot your visualizations;\n",
    "    # there are also many other plot types (other \n",
    "    # than axes.plot) you can use\n",
    "    axes.plot(values, \"...\")\n",
    "    # there are other methods to use to label your axes, to style \n",
    "    # and set up axes labels, etc\n",
    "    axes.set_title(\"Some Descriptive Title\")\n",
    "    \n",
    "    plt.show()"
   ]
  },
  {
   "cell_type": "code",
   "execution_count": null,
   "id": "847ced2f",
   "metadata": {},
   "outputs": [],
   "source": [
    "def get_data_for_visual_1():\n",
    "    # Query SQL database for the data needed.\n",
    "    # You can put the data queried into a pandas dataframe, if you wish\n",
    "    #raise NotImplemented()"
   ]
  },
  {
   "cell_type": "code",
   "execution_count": null,
   "id": "3c63e845",
   "metadata": {},
   "outputs": [],
   "source": [
    "some_dataframe = get_data_for_visual_n()\n",
    "plot_visual_n(some_dataframe)"
   ]
  }
 ],
 "metadata": {
  "kernelspec": {
   "display_name": "Python 3 (ipykernel)",
   "language": "python",
   "name": "python3"
  },
  "language_info": {
   "codemirror_mode": {
    "name": "ipython",
    "version": 3
   },
   "file_extension": ".py",
   "mimetype": "text/x-python",
   "name": "python",
   "nbconvert_exporter": "python",
   "pygments_lexer": "ipython3",
   "version": "3.9.9"
  }
 },
 "nbformat": 4,
 "nbformat_minor": 5
}
