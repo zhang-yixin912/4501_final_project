{
 "cells": [
  {
   "cell_type": "markdown",
   "id": "32f8ca24",
   "metadata": {},
   "source": [
    "# Understanding Hired Rides in NYC"
   ]
  },
  {
   "cell_type": "markdown",
   "id": "2f75fd94",
   "metadata": {},
   "source": [
    "## Project Setup"
   ]
  },
  {
   "cell_type": "code",
   "execution_count": 325,
   "id": "66dcde05",
   "metadata": {},
   "outputs": [
    {
     "data": {
      "application/javascript": [
       "\n",
       "            setTimeout(function() {\n",
       "                var nbb_cell_id = 325;\n",
       "                var nbb_unformatted_code = \"# all import statements needed for the project, for example:\\nimport math\\nimport statistics\\nimport re\\nimport os\\nimport bs4\\nimport matplotlib.pyplot as plt\\nimport seaborn as sns\\nimport pandas as pd\\nimport geopandas\\nimport requests\\nimport sqlalchemy as db\\nimport warnings\\n%load_ext nb_black\";\n",
       "                var nbb_formatted_code = \"# all import statements needed for the project, for example:\\nimport math\\nimport statistics\\nimport re\\nimport os\\nimport bs4\\nimport matplotlib.pyplot as plt\\nimport seaborn as sns\\nimport pandas as pd\\nimport geopandas\\nimport requests\\nimport sqlalchemy as db\\nimport warnings\\n\\n%load_ext nb_black\";\n",
       "                var nbb_cells = Jupyter.notebook.get_cells();\n",
       "                for (var i = 0; i < nbb_cells.length; ++i) {\n",
       "                    if (nbb_cells[i].input_prompt_number == nbb_cell_id) {\n",
       "                        if (nbb_cells[i].get_text() == nbb_unformatted_code) {\n",
       "                             nbb_cells[i].set_text(nbb_formatted_code);\n",
       "                        }\n",
       "                        break;\n",
       "                    }\n",
       "                }\n",
       "            }, 500);\n",
       "            "
      ],
      "text/plain": [
       "<IPython.core.display.Javascript object>"
      ]
     },
     "metadata": {},
     "output_type": "display_data"
    }
   ],
   "source": [
    "import math\n",
    "import statistics\n",
    "import re\n",
    "import os\n",
    "import bs4\n",
    "import matplotlib.pyplot as plt\n",
    "import seaborn as sns\n",
    "import pandas as pd\n",
    "import geopandas\n",
    "import requests\n",
    "import sqlalchemy as db\n",
    "import warnings"
   ]
  },
  {
   "cell_type": "code",
   "execution_count": 2,
   "id": "8b622a58",
   "metadata": {},
   "outputs": [],
   "source": [
    "warnings.filterwarnings(\"ignore\")"
   ]
  },
  {
   "cell_type": "code",
   "execution_count": 332,
   "id": "3f1242c4",
   "metadata": {},
   "outputs": [
    {
     "data": {
      "application/javascript": [
       "\n",
       "            setTimeout(function() {\n",
       "                var nbb_cell_id = 332;\n",
       "                var nbb_unformatted_code = \"TAXI_URL = \\\"https://www1.nyc.gov/site/tlc/about/tlc-trip-record-data.page\\\"\\nUBER_CSV = \\\"uber_rides_sample.csv\\\"\\n\\nNEW_YORK_BOX_COORDS = ((40.560445, -74.242330), (40.908524, -73.717047))\\n\\nDATABASE_URL = \\\"sqlite:///project.db\\\"\\nDATABASE_SCHEMA_FILE = \\\"schema.sql\\\"\\nQUERY_DIRECTORY = \\\"queries\\\"\";\n",
       "                var nbb_formatted_code = \"TAXI_URL = \\\"https://www1.nyc.gov/site/tlc/about/tlc-trip-record-data.page\\\"\\nUBER_CSV = \\\"uber_rides_sample.csv\\\"\\n\\nNEW_YORK_BOX_COORDS = ((40.560445, -74.242330), (40.908524, -73.717047))\\n\\nDATABASE_URL = \\\"sqlite:///project.db\\\"\\nDATABASE_SCHEMA_FILE = \\\"schema.sql\\\"\\nQUERY_DIRECTORY = \\\"queries\\\"\";\n",
       "                var nbb_cells = Jupyter.notebook.get_cells();\n",
       "                for (var i = 0; i < nbb_cells.length; ++i) {\n",
       "                    if (nbb_cells[i].input_prompt_number == nbb_cell_id) {\n",
       "                        if (nbb_cells[i].get_text() == nbb_unformatted_code) {\n",
       "                             nbb_cells[i].set_text(nbb_formatted_code);\n",
       "                        }\n",
       "                        break;\n",
       "                    }\n",
       "                }\n",
       "            }, 500);\n",
       "            "
      ],
      "text/plain": [
       "<IPython.core.display.Javascript object>"
      ]
     },
     "metadata": {},
     "output_type": "display_data"
    }
   ],
   "source": [
    "TAXI_URL = \"https://www1.nyc.gov/site/tlc/about/tlc-trip-record-data.page\"\n",
    "UBER_CSV = \"uber_rides_sample.csv\"\n",
    "\n",
    "NEW_YORK_BOX_COORDS = ((40.560445, -74.242330), (40.908524, -73.717047))\n",
    "\n",
    "DATABASE_URL = \"sqlite:///project.db\"\n",
    "DATABASE_SCHEMA_FILE = \"schema.sql\"\n",
    "QUERY_DIRECTORY = \"queries\""
   ]
  },
  {
   "cell_type": "markdown",
   "id": "26ad10ea",
   "metadata": {},
   "source": [
    "## Part 1: Data Preprocessing"
   ]
  },
  {
   "cell_type": "markdown",
   "id": "32074561",
   "metadata": {},
   "source": [
    "### Calculating distance\n",
    "Function ```calculate_distance``` will calculate the distance between two geographical points using the points' lattitudes and longitudes by the Haversine formula (https://en.wikipedia.org/wiki/Haversine_formula). The obtained distance will then be added to a column named 'distance' by the ```add_distance_column``` function."
   ]
  },
  {
   "cell_type": "code",
   "execution_count": 326,
   "id": "4cbbe6cc",
   "metadata": {},
   "outputs": [
    {
     "data": {
      "application/javascript": [
       "\n",
       "            setTimeout(function() {\n",
       "                var nbb_cell_id = 326;\n",
       "                var nbb_unformatted_code = \"def calculate_distance(from_coord, to_coord): \\n    \\\"\\\"\\\" Take in two coordinates and return their distance in kilometer.\\n    \\n        Parameters:\\n        from_coord(list): list containing 2 float\\n        to_coord(list): the lattitude and longitude of the destination\\n        \\n        Returns:\\n        float: the distance in kilometer\\n    \\\"\\\"\\\"\\n    # radius of earth in km\\n    R = 6371\\n\\n    lat_from = math.radians(from_coord[0])\\n    lon_from = math.radians(from_coord[1])\\n    lat_to = math.radians(to_coord[0])\\n    lon_to = math.radians(to_coord[1])\\n\\n    # Haversine formula: https://en.wikipedia.org/wiki/Haversine_formula\\n    dlon = lon_to - lon_from\\n    dlat = lat_to - lat_from\\n    a = math.sin(dlat / 2)**2 + math.cos(lat_from) * math.cos(lat_to) * math.sin(dlon / 2)**2\\n    d = 2 * R * math.asin(math.sqrt(a))\\n    \\n    return d   \\n    \";\n",
       "                var nbb_formatted_code = \"def calculate_distance(from_coord, to_coord):\\n    \\\"\\\"\\\"Take in two coordinates and return their distance in kilometer.\\n\\n    Parameters:\\n    from_coord(list): list containing 2 float\\n    to_coord(list): the lattitude and longitude of the destination\\n\\n    Returns:\\n    float: the distance in kilometer\\n    \\\"\\\"\\\"\\n    # radius of earth in km\\n    R = 6371\\n\\n    lat_from = math.radians(from_coord[0])\\n    lon_from = math.radians(from_coord[1])\\n    lat_to = math.radians(to_coord[0])\\n    lon_to = math.radians(to_coord[1])\\n\\n    # Haversine formula: https://en.wikipedia.org/wiki/Haversine_formula\\n    dlon = lon_to - lon_from\\n    dlat = lat_to - lat_from\\n    a = (\\n        math.sin(dlat / 2) ** 2\\n        + math.cos(lat_from) * math.cos(lat_to) * math.sin(dlon / 2) ** 2\\n    )\\n    d = 2 * R * math.asin(math.sqrt(a))\\n\\n    return d\";\n",
       "                var nbb_cells = Jupyter.notebook.get_cells();\n",
       "                for (var i = 0; i < nbb_cells.length; ++i) {\n",
       "                    if (nbb_cells[i].input_prompt_number == nbb_cell_id) {\n",
       "                        if (nbb_cells[i].get_text() == nbb_unformatted_code) {\n",
       "                             nbb_cells[i].set_text(nbb_formatted_code);\n",
       "                        }\n",
       "                        break;\n",
       "                    }\n",
       "                }\n",
       "            }, 500);\n",
       "            "
      ],
      "text/plain": [
       "<IPython.core.display.Javascript object>"
      ]
     },
     "metadata": {},
     "output_type": "display_data"
    }
   ],
   "source": [
    "def calculate_distance(from_coord, to_coord):\n",
    "    \"\"\"Take in two coordinates and return their distance in kilometer.\n",
    "\n",
    "    Parameters:\n",
    "    from_coord(list): list containing 2 float\n",
    "    to_coord(list): the lattitude and longitude of the destination\n",
    "\n",
    "    Returns:\n",
    "    float: the distance in kilometer\n",
    "    \"\"\"\n",
    "    # radius of earth in km\n",
    "    R = 6371\n",
    "\n",
    "    lat_from = math.radians(from_coord[0])\n",
    "    lon_from = math.radians(from_coord[1])\n",
    "    lat_to = math.radians(to_coord[0])\n",
    "    lon_to = math.radians(to_coord[1])\n",
    "\n",
    "    # Haversine formula: https://en.wikipedia.org/wiki/Haversine_formula\n",
    "    dlon = lon_to - lon_from\n",
    "    dlat = lat_to - lat_from\n",
    "    a = (\n",
    "        math.sin(dlat / 2) ** 2\n",
    "        + math.cos(lat_from) * math.cos(lat_to) * math.sin(dlon / 2) ** 2\n",
    "    )\n",
    "    d = 2 * R * math.asin(math.sqrt(a))\n",
    "\n",
    "    return d"
   ]
  },
  {
   "cell_type": "code",
   "execution_count": 408,
   "id": "7453db3d",
   "metadata": {},
   "outputs": [
    {
     "data": {
      "application/javascript": [
       "\n",
       "            setTimeout(function() {\n",
       "                var nbb_cell_id = 408;\n",
       "                var nbb_unformatted_code = \"def add_distance_column(dataframe):\\n    \\\"\\\"\\\"Add a column of the distance calculated.\\\"\\\"\\\"\\n    # dataframe contains pickup_latitude etc. after column name normalization\\n    dataframe[\\\"distance\\\"] = dataframe.apply(\\n        lambda x: calculate_distance(\\n            [x[\\\"pickup_latitude\\\"], x[\\\"pickup_longitude\\\"]],\\n            [x[\\\"dropoff_latitude\\\"], x[\\\"dropoff_longitude\\\"]],\\n        ),\\n        axis=1,\\n    )\";\n",
       "                var nbb_formatted_code = \"def add_distance_column(dataframe):\\n    \\\"\\\"\\\"Add a column of the distance calculated.\\\"\\\"\\\"\\n    # dataframe contains pickup_latitude etc. after column name normalization\\n    dataframe[\\\"distance\\\"] = dataframe.apply(\\n        lambda x: calculate_distance(\\n            [x[\\\"pickup_latitude\\\"], x[\\\"pickup_longitude\\\"]],\\n            [x[\\\"dropoff_latitude\\\"], x[\\\"dropoff_longitude\\\"]],\\n        ),\\n        axis=1,\\n    )\";\n",
       "                var nbb_cells = Jupyter.notebook.get_cells();\n",
       "                for (var i = 0; i < nbb_cells.length; ++i) {\n",
       "                    if (nbb_cells[i].input_prompt_number == nbb_cell_id) {\n",
       "                        if (nbb_cells[i].get_text() == nbb_unformatted_code) {\n",
       "                             nbb_cells[i].set_text(nbb_formatted_code);\n",
       "                        }\n",
       "                        break;\n",
       "                    }\n",
       "                }\n",
       "            }, 500);\n",
       "            "
      ],
      "text/plain": [
       "<IPython.core.display.Javascript object>"
      ]
     },
     "metadata": {},
     "output_type": "display_data"
    }
   ],
   "source": [
    "def add_distance_column(dataframe):\n",
    "    \"\"\"Add a column of the distance calculated.\"\"\"\n",
    "    # dataframe contains pickup_latitude etc. after column name normalization\n",
    "    dataframe[\"distance\"] = dataframe.apply(\n",
    "        lambda x: calculate_distance(\n",
    "            [x[\"pickup_latitude\"], x[\"pickup_longitude\"]],\n",
    "            [x[\"dropoff_latitude\"], x[\"dropoff_longitude\"]],\n",
    "        ),\n",
    "        axis=1,\n",
    "    )"
   ]
  },
  {
   "cell_type": "markdown",
   "id": "93daa717",
   "metadata": {},
   "source": [
    "### Processing Taxi Data\n",
    "\n",
    "The Yellow Taxi Parquet files are programmatically downloaded from https://www.nyc.gov/site/tlc/about/tlc-trip-record-data.page. The taxi data is cleaned and normalized. Some location data are in the form of the geographical zone ids, and the coordinates of the center point of the zones is used as the coordinates of the location. Missing data in distance is filled up using the coordinates. The data is normalized and cleanned. The trips with pickup or dropoff outside the intended region are also removed."
   ]
  },
  {
   "cell_type": "code",
   "execution_count": 336,
   "id": "cbd0d198",
   "metadata": {},
   "outputs": [
    {
     "data": {
      "application/javascript": [
       "\n",
       "            setTimeout(function() {\n",
       "                var nbb_cell_id = 336;\n",
       "                var nbb_unformatted_code = \"def find_taxi_csv_urls():\\n    \\\"\\\"\\\"Obtain the url of each Yellow Taxi Parque file and return the urls in list.\\\"\\\"\\\"\\n\\n    pattern = r\\\"Yellow Taxi Trip Records\\\"\\n    response = requests.get(TAXI_URL)\\n    content = response.content\\n    soup = bs4.BeautifulSoup(content, \\\"html.parser\\\")\\n    y_urls = [y[\\\"href\\\"] for y in soup.find_all(title=pattern)]\\n    # getting links from 2009-01 to 2015-06\\n    y_urls = y_urls[-84:]\\n    urls = [item for idx, item in enumerate(y_urls) if idx not in range(6, 12)]\\n    \\n    return urls\";\n",
       "                var nbb_formatted_code = \"def find_taxi_csv_urls():\\n    \\\"\\\"\\\"Obtain the url of each Yellow Taxi Parque file and return the urls in list.\\\"\\\"\\\"\\n\\n    pattern = r\\\"Yellow Taxi Trip Records\\\"\\n    response = requests.get(TAXI_URL)\\n    content = response.content\\n    soup = bs4.BeautifulSoup(content, \\\"html.parser\\\")\\n    y_urls = [y[\\\"href\\\"] for y in soup.find_all(title=pattern)]\\n    # getting links from 2009-01 to 2015-06\\n    y_urls = y_urls[-84:]\\n    urls = [item for idx, item in enumerate(y_urls) if idx not in range(6, 12)]\\n\\n    return urls\";\n",
       "                var nbb_cells = Jupyter.notebook.get_cells();\n",
       "                for (var i = 0; i < nbb_cells.length; ++i) {\n",
       "                    if (nbb_cells[i].input_prompt_number == nbb_cell_id) {\n",
       "                        if (nbb_cells[i].get_text() == nbb_unformatted_code) {\n",
       "                             nbb_cells[i].set_text(nbb_formatted_code);\n",
       "                        }\n",
       "                        break;\n",
       "                    }\n",
       "                }\n",
       "            }, 500);\n",
       "            "
      ],
      "text/plain": [
       "<IPython.core.display.Javascript object>"
      ]
     },
     "metadata": {},
     "output_type": "display_data"
    }
   ],
   "source": [
    "def find_taxi_csv_urls():\n",
    "    \"\"\"Obtain the url of each Yellow Taxi Parque file and return the urls in list.\"\"\"\n",
    "\n",
    "    pattern = r\"Yellow Taxi Trip Records\"\n",
    "    response = requests.get(TAXI_URL)\n",
    "    content = response.content\n",
    "    soup = bs4.BeautifulSoup(content, \"html.parser\")\n",
    "    y_urls = [y[\"href\"] for y in soup.find_all(title=pattern)]\n",
    "    # getting links from 2009-01 to 2015-06\n",
    "    y_urls = y_urls[-84:]\n",
    "    urls = [item for idx, item in enumerate(y_urls) if idx not in range(6, 12)]\n",
    "\n",
    "    return urls"
   ]
  },
  {
   "cell_type": "code",
   "execution_count": 363,
   "id": "2f40130a",
   "metadata": {},
   "outputs": [
    {
     "data": {
      "application/javascript": [
       "\n",
       "            setTimeout(function() {\n",
       "                var nbb_cell_id = 363;\n",
       "                var nbb_unformatted_code = \"def get_and_clean_month_taxi_data(url):\\n    \\\"\\\"\\\"Get the yellow taxi trip data of each month and return the trip data after cleaning.\\n\\n    Parameters:\\n    url(str): The url of the parquet file.\\n    \\n    Returns: \\n    df: a dataframe containing trip data.\\n    \\\"\\\"\\\"\\n\\n    # download taxi data with url and save as dataframe\\n    df = pd.read_parquet(url, engine=\\\"pyarrow\\\")\\n\\n    # looking up the latitude and longitude for some months where only location IDs and normalize column names\\n    pattern1 = r\\\"LocationID\\\"\\n    pattern2 = r\\\"latitude\\\"\\n    pattern3 = r\\\"Lat\\\"\\n    df_type = 0\\n    for col in df.columns:\\n        if re.search(pattern1, col):\\n            df_type = 1  # 2011-01 to 2015-06\\n        if re.search(pattern2, col):\\n            df_type = 2  # 2010-01 to 2010-12\\n        if re.search(pattern3, col):\\n            df_type = 3  # 2009-01 to 2009-12\\n\\n    if df_type == 1:\\n        # load and convert zone data\\n        zones = geopandas.read_file(\\\"taxi_zones.shp\\\")\\n        zones = zones.to_crs(4326)\\n        zones[\\\"lon\\\"] = zones.centroid.x\\n        zones[\\\"lat\\\"] = zones.centroid.y\\n        zones = zones[[\\\"LocationID\\\", \\\"lon\\\", \\\"lat\\\"]]\\n\\n        # drop unnecessary columns\\n        cols = [\\n            \\\"tpep_pickup_datetime\\\",\\n            \\\"passenger_count\\\",\\n            \\\"trip_distance\\\",\\n            \\\"PULocationID\\\",\\n            \\\"DOLocationID\\\",\\n            \\\"fare_amount\\\",\\n            \\\"tip_amount\\\",\\n        ]\\n        df = df[cols]\\n\\n        # get pickup lattitude and longitude\\n        df = df.merge(zones, left_on=\\\"PULocationID\\\", right_on=\\\"LocationID\\\", how=\\\"left\\\")\\n        df.drop([\\\"LocationID\\\"], axis=1, inplace=True)\\n        df.rename(\\n            {\\\"lon\\\": \\\"pickup_longitude\\\", \\\"lat\\\": \\\"pickup_latitude\\\"}, axis=1, inplace=True\\n        )\\n\\n        # get dropoff lattitude and longitude\\n        df = df.merge(zones, left_on=\\\"DOLocationID\\\", right_on=\\\"LocationID\\\", how=\\\"left\\\")\\n        df.drop([\\\"LocationID\\\"], axis=1, inplace=True)\\n        df.rename(\\n            {\\\"lon\\\": \\\"dropoff_longitude\\\", \\\"lat\\\": \\\"dropoff_latitude\\\"},\\n            axis=1,\\n            inplace=True,\\n        )\\n\\n        # remove unnecessary columns\\n        df.drop([\\\"PULocationID\\\", \\\"DOLocationID\\\"], axis=1, inplace=True)\\n\\n        # remove nan values\\n        df.dropna(inplace=True)\\n\\n        # normalize column names and types\\n        df.rename(columns={\\\"tpep_pickup_datetime\\\": \\\"pickup_datetime\\\"}, inplace=True)\\n\\n    if df_type == 2:\\n        cols = [\\n            \\\"pickup_datetime\\\",\\n            \\\"passenger_count\\\",\\n            \\\"trip_distance\\\",\\n            \\\"pickup_longitude\\\",\\n            \\\"pickup_latitude\\\",\\n            \\\"dropoff_longitude\\\",\\n            \\\"dropoff_latitude\\\",\\n            \\\"fare_amount\\\",\\n            \\\"tip_amount\\\",\\n        ]\\n        df = df[cols]\\n\\n    if df_type == 3:\\n        cols = [\\n            \\\"Trip_Pickup_DateTime\\\",\\n            \\\"Passenger_Count\\\",\\n            \\\"Trip_Distance\\\",\\n            \\\"Start_Lon\\\",\\n            \\\"Start_Lat\\\",\\n            \\\"End_Lon\\\",\\n            \\\"End_Lat\\\",\\n            \\\"Fare_Amt\\\",\\n            \\\"Tip_Amt\\\",\\n        ]\\n        df = df[cols]\\n\\n        # normalize column names and types\\n        df.rename(\\n            columns={\\n                \\\"Trip_Pickup_DateTime\\\": \\\"pickup_datetime\\\",\\n                \\\"Passenger_Count\\\": \\\"passenger_count\\\",\\n                \\\"Trip_Distance\\\": \\\"trip_distance\\\",\\n                \\\"Start_Lon\\\": \\\"pickup_longitude\\\",\\n                \\\"Start_Lat\\\": \\\"pickup_latitude\\\",\\n                \\\"End_Lon\\\": \\\"dropoff_longitude\\\",\\n                \\\"End_Lat\\\": \\\"dropoff_latitude\\\",\\n                \\\"Fare_Amt\\\": \\\"fare_amount\\\",\\n                \\\"Tip_Amt\\\": \\\"tip_amount\\\",\\n            },\\n            inplace=True,\\n        )\\n\\n    # drop nan values\\n    df.dropna(inplace=True)\\n\\n    # remove trips out side the designated coordbox (40.560445, -74.242330) and (40.908524, -73.717047)\\n    df = df[(df[\\\"pickup_latitude\\\"] >= 40.560445) & (df[\\\"pickup_latitude\\\"] <= 40.908524)]\\n    df = df[\\n        (df[\\\"pickup_longitude\\\"] >= -74.242330) & (df[\\\"pickup_longitude\\\"] <= -73.717047)\\n    ]\\n    df = df[\\n        (df[\\\"dropoff_latitude\\\"] >= 40.560445) & (df[\\\"dropoff_latitude\\\"] <= 40.908524)\\n    ]\\n    df = df[\\n        (df[\\\"dropoff_longitude\\\"] >= -74.242330)\\n        & (df[\\\"dropoff_longitude\\\"] <= -73.717047)\\n    ]\\n\\n    # drop 0 passenger trips\\n    df = df[df[\\\"passenger_count\\\"] != 0]\\n\\n    # drop trips with no fare\\n    df = df[df[\\\"fare_amount\\\"] != 0]\\n\\n    # drop trips with no distance between dropoff and pickup\\n    df = df[\\n        (df[\\\"pickup_latitude\\\"] != df[\\\"dropoff_latitude\\\"])\\n        | (df[\\\"pickup_longitude\\\"] != df[\\\"dropoff_longitude\\\"])\\n    ]\\n    df = df[df[\\\"trip_distance\\\"] != 0]\\n\\n    # normalize column types\\n    df[\\\"pickup_datetime\\\"] = pd.to_datetime(df[\\\"pickup_datetime\\\"])\\n\\n    # sampling 2472 data for each month\\n    df = df.sample(n=2472)\\n\\n    # drop unnecessary columns\\n    df.drop(['trip_distance'], axis=1, inplace=True)\\n    df.reset_index(drop=True)\\n\\n    # save to a csv file\\n    df.to_csv(url, encoding=\\\"utf-8\\\", index=False)\\n    return df\";\n",
       "                var nbb_formatted_code = \"def get_and_clean_month_taxi_data(url):\\n    \\\"\\\"\\\"Get the yellow taxi trip data of each month and return the trip data after cleaning.\\n\\n    Parameters:\\n    url(str): The url of the parquet file.\\n\\n    Returns:\\n    df: a dataframe containing trip data.\\n    \\\"\\\"\\\"\\n\\n    # download taxi data with url and save as dataframe\\n    df = pd.read_parquet(url, engine=\\\"pyarrow\\\")\\n\\n    # looking up the latitude and longitude for some months where only location IDs and normalize column names\\n    pattern1 = r\\\"LocationID\\\"\\n    pattern2 = r\\\"latitude\\\"\\n    pattern3 = r\\\"Lat\\\"\\n    df_type = 0\\n    for col in df.columns:\\n        if re.search(pattern1, col):\\n            df_type = 1  # 2011-01 to 2015-06\\n        if re.search(pattern2, col):\\n            df_type = 2  # 2010-01 to 2010-12\\n        if re.search(pattern3, col):\\n            df_type = 3  # 2009-01 to 2009-12\\n\\n    if df_type == 1:\\n        # load and convert zone data\\n        zones = geopandas.read_file(\\\"taxi_zones.shp\\\")\\n        zones = zones.to_crs(4326)\\n        zones[\\\"lon\\\"] = zones.centroid.x\\n        zones[\\\"lat\\\"] = zones.centroid.y\\n        zones = zones[[\\\"LocationID\\\", \\\"lon\\\", \\\"lat\\\"]]\\n\\n        # drop unnecessary columns\\n        cols = [\\n            \\\"tpep_pickup_datetime\\\",\\n            \\\"passenger_count\\\",\\n            \\\"trip_distance\\\",\\n            \\\"PULocationID\\\",\\n            \\\"DOLocationID\\\",\\n            \\\"fare_amount\\\",\\n            \\\"tip_amount\\\",\\n        ]\\n        df = df[cols]\\n\\n        # get pickup lattitude and longitude\\n        df = df.merge(zones, left_on=\\\"PULocationID\\\", right_on=\\\"LocationID\\\", how=\\\"left\\\")\\n        df.drop([\\\"LocationID\\\"], axis=1, inplace=True)\\n        df.rename(\\n            {\\\"lon\\\": \\\"pickup_longitude\\\", \\\"lat\\\": \\\"pickup_latitude\\\"}, axis=1, inplace=True\\n        )\\n\\n        # get dropoff lattitude and longitude\\n        df = df.merge(zones, left_on=\\\"DOLocationID\\\", right_on=\\\"LocationID\\\", how=\\\"left\\\")\\n        df.drop([\\\"LocationID\\\"], axis=1, inplace=True)\\n        df.rename(\\n            {\\\"lon\\\": \\\"dropoff_longitude\\\", \\\"lat\\\": \\\"dropoff_latitude\\\"},\\n            axis=1,\\n            inplace=True,\\n        )\\n\\n        # remove unnecessary columns\\n        df.drop([\\\"PULocationID\\\", \\\"DOLocationID\\\"], axis=1, inplace=True)\\n\\n        # remove nan values\\n        df.dropna(inplace=True)\\n\\n        # normalize column names and types\\n        df.rename(columns={\\\"tpep_pickup_datetime\\\": \\\"pickup_datetime\\\"}, inplace=True)\\n\\n    if df_type == 2:\\n        cols = [\\n            \\\"pickup_datetime\\\",\\n            \\\"passenger_count\\\",\\n            \\\"trip_distance\\\",\\n            \\\"pickup_longitude\\\",\\n            \\\"pickup_latitude\\\",\\n            \\\"dropoff_longitude\\\",\\n            \\\"dropoff_latitude\\\",\\n            \\\"fare_amount\\\",\\n            \\\"tip_amount\\\",\\n        ]\\n        df = df[cols]\\n\\n    if df_type == 3:\\n        cols = [\\n            \\\"Trip_Pickup_DateTime\\\",\\n            \\\"Passenger_Count\\\",\\n            \\\"Trip_Distance\\\",\\n            \\\"Start_Lon\\\",\\n            \\\"Start_Lat\\\",\\n            \\\"End_Lon\\\",\\n            \\\"End_Lat\\\",\\n            \\\"Fare_Amt\\\",\\n            \\\"Tip_Amt\\\",\\n        ]\\n        df = df[cols]\\n\\n        # normalize column names and types\\n        df.rename(\\n            columns={\\n                \\\"Trip_Pickup_DateTime\\\": \\\"pickup_datetime\\\",\\n                \\\"Passenger_Count\\\": \\\"passenger_count\\\",\\n                \\\"Trip_Distance\\\": \\\"trip_distance\\\",\\n                \\\"Start_Lon\\\": \\\"pickup_longitude\\\",\\n                \\\"Start_Lat\\\": \\\"pickup_latitude\\\",\\n                \\\"End_Lon\\\": \\\"dropoff_longitude\\\",\\n                \\\"End_Lat\\\": \\\"dropoff_latitude\\\",\\n                \\\"Fare_Amt\\\": \\\"fare_amount\\\",\\n                \\\"Tip_Amt\\\": \\\"tip_amount\\\",\\n            },\\n            inplace=True,\\n        )\\n\\n    # drop nan values\\n    df.dropna(inplace=True)\\n\\n    # remove trips out side the designated coordbox (40.560445, -74.242330) and (40.908524, -73.717047)\\n    df = df[(df[\\\"pickup_latitude\\\"] >= 40.560445) & (df[\\\"pickup_latitude\\\"] <= 40.908524)]\\n    df = df[\\n        (df[\\\"pickup_longitude\\\"] >= -74.242330) & (df[\\\"pickup_longitude\\\"] <= -73.717047)\\n    ]\\n    df = df[\\n        (df[\\\"dropoff_latitude\\\"] >= 40.560445) & (df[\\\"dropoff_latitude\\\"] <= 40.908524)\\n    ]\\n    df = df[\\n        (df[\\\"dropoff_longitude\\\"] >= -74.242330)\\n        & (df[\\\"dropoff_longitude\\\"] <= -73.717047)\\n    ]\\n\\n    # drop 0 passenger trips\\n    df = df[df[\\\"passenger_count\\\"] != 0]\\n\\n    # drop trips with no fare\\n    df = df[df[\\\"fare_amount\\\"] != 0]\\n\\n    # drop trips with no distance between dropoff and pickup\\n    df = df[\\n        (df[\\\"pickup_latitude\\\"] != df[\\\"dropoff_latitude\\\"])\\n        | (df[\\\"pickup_longitude\\\"] != df[\\\"dropoff_longitude\\\"])\\n    ]\\n    df = df[df[\\\"trip_distance\\\"] != 0]\\n\\n    # normalize column types\\n    df[\\\"pickup_datetime\\\"] = pd.to_datetime(df[\\\"pickup_datetime\\\"])\\n\\n    # sampling 2472 data for each month\\n    df = df.sample(n=2472)\\n\\n    # drop unnecessary columns\\n    df.drop([\\\"trip_distance\\\"], axis=1, inplace=True)\\n    df.reset_index(drop=True)\\n\\n    # save to a csv file\\n    df.to_csv(url, encoding=\\\"utf-8\\\", index=False)\\n    return df\";\n",
       "                var nbb_cells = Jupyter.notebook.get_cells();\n",
       "                for (var i = 0; i < nbb_cells.length; ++i) {\n",
       "                    if (nbb_cells[i].input_prompt_number == nbb_cell_id) {\n",
       "                        if (nbb_cells[i].get_text() == nbb_unformatted_code) {\n",
       "                             nbb_cells[i].set_text(nbb_formatted_code);\n",
       "                        }\n",
       "                        break;\n",
       "                    }\n",
       "                }\n",
       "            }, 500);\n",
       "            "
      ],
      "text/plain": [
       "<IPython.core.display.Javascript object>"
      ]
     },
     "metadata": {},
     "output_type": "display_data"
    }
   ],
   "source": [
    "def get_and_clean_month_taxi_data(url):\n",
    "    \"\"\"Get the yellow taxi trip data of each month and return the trip data after cleaning.\n",
    "\n",
    "    Parameters:\n",
    "    url(str): The url of the parquet file.\n",
    "\n",
    "    Returns:\n",
    "    df: a dataframe containing trip data.\n",
    "    \"\"\"\n",
    "\n",
    "    # download taxi data with url and save as dataframe\n",
    "    df = pd.read_parquet(url, engine=\"pyarrow\")\n",
    "\n",
    "    # looking up the latitude and longitude for some months where only location IDs and normalize column names\n",
    "    pattern1 = r\"LocationID\"\n",
    "    pattern2 = r\"latitude\"\n",
    "    pattern3 = r\"Lat\"\n",
    "    df_type = 0\n",
    "    for col in df.columns:\n",
    "        if re.search(pattern1, col):\n",
    "            df_type = 1  # 2011-01 to 2015-06\n",
    "        if re.search(pattern2, col):\n",
    "            df_type = 2  # 2010-01 to 2010-12\n",
    "        if re.search(pattern3, col):\n",
    "            df_type = 3  # 2009-01 to 2009-12\n",
    "\n",
    "    if df_type == 1:\n",
    "        # load and convert zone data\n",
    "        zones = geopandas.read_file(\"taxi_zones.shp\")\n",
    "        zones = zones.to_crs(4326)\n",
    "        zones[\"lon\"] = zones.centroid.x\n",
    "        zones[\"lat\"] = zones.centroid.y\n",
    "        zones = zones[[\"LocationID\", \"lon\", \"lat\"]]\n",
    "\n",
    "        # drop unnecessary columns\n",
    "        cols = [\n",
    "            \"tpep_pickup_datetime\",\n",
    "            \"passenger_count\",\n",
    "            \"trip_distance\",\n",
    "            \"PULocationID\",\n",
    "            \"DOLocationID\",\n",
    "            \"fare_amount\",\n",
    "            \"tip_amount\",\n",
    "        ]\n",
    "        df = df[cols]\n",
    "\n",
    "        # get pickup lattitude and longitude\n",
    "        df = df.merge(zones, left_on=\"PULocationID\", right_on=\"LocationID\", how=\"left\")\n",
    "        df.drop([\"LocationID\"], axis=1, inplace=True)\n",
    "        df.rename(\n",
    "            {\"lon\": \"pickup_longitude\", \"lat\": \"pickup_latitude\"}, axis=1, inplace=True\n",
    "        )\n",
    "\n",
    "        # get dropoff lattitude and longitude\n",
    "        df = df.merge(zones, left_on=\"DOLocationID\", right_on=\"LocationID\", how=\"left\")\n",
    "        df.drop([\"LocationID\"], axis=1, inplace=True)\n",
    "        df.rename(\n",
    "            {\"lon\": \"dropoff_longitude\", \"lat\": \"dropoff_latitude\"},\n",
    "            axis=1,\n",
    "            inplace=True,\n",
    "        )\n",
    "\n",
    "        # remove unnecessary columns\n",
    "        df.drop([\"PULocationID\", \"DOLocationID\"], axis=1, inplace=True)\n",
    "\n",
    "        # remove nan values\n",
    "        df.dropna(inplace=True)\n",
    "\n",
    "        # normalize column names and types\n",
    "        df.rename(columns={\"tpep_pickup_datetime\": \"pickup_datetime\"}, inplace=True)\n",
    "\n",
    "    if df_type == 2:\n",
    "        cols = [\n",
    "            \"pickup_datetime\",\n",
    "            \"passenger_count\",\n",
    "            \"trip_distance\",\n",
    "            \"pickup_longitude\",\n",
    "            \"pickup_latitude\",\n",
    "            \"dropoff_longitude\",\n",
    "            \"dropoff_latitude\",\n",
    "            \"fare_amount\",\n",
    "            \"tip_amount\",\n",
    "        ]\n",
    "        df = df[cols]\n",
    "\n",
    "    if df_type == 3:\n",
    "        cols = [\n",
    "            \"Trip_Pickup_DateTime\",\n",
    "            \"Passenger_Count\",\n",
    "            \"Trip_Distance\",\n",
    "            \"Start_Lon\",\n",
    "            \"Start_Lat\",\n",
    "            \"End_Lon\",\n",
    "            \"End_Lat\",\n",
    "            \"Fare_Amt\",\n",
    "            \"Tip_Amt\",\n",
    "        ]\n",
    "        df = df[cols]\n",
    "\n",
    "        # normalize column names and types\n",
    "        df.rename(\n",
    "            columns={\n",
    "                \"Trip_Pickup_DateTime\": \"pickup_datetime\",\n",
    "                \"Passenger_Count\": \"passenger_count\",\n",
    "                \"Trip_Distance\": \"trip_distance\",\n",
    "                \"Start_Lon\": \"pickup_longitude\",\n",
    "                \"Start_Lat\": \"pickup_latitude\",\n",
    "                \"End_Lon\": \"dropoff_longitude\",\n",
    "                \"End_Lat\": \"dropoff_latitude\",\n",
    "                \"Fare_Amt\": \"fare_amount\",\n",
    "                \"Tip_Amt\": \"tip_amount\",\n",
    "            },\n",
    "            inplace=True,\n",
    "        )\n",
    "\n",
    "    # drop nan values\n",
    "    df.dropna(inplace=True)\n",
    "\n",
    "    # remove trips out side the designated coordbox (40.560445, -74.242330) and (40.908524, -73.717047)\n",
    "    df = df[(df[\"pickup_latitude\"] >= 40.560445) & (df[\"pickup_latitude\"] <= 40.908524)]\n",
    "    df = df[\n",
    "        (df[\"pickup_longitude\"] >= -74.242330) & (df[\"pickup_longitude\"] <= -73.717047)\n",
    "    ]\n",
    "    df = df[\n",
    "        (df[\"dropoff_latitude\"] >= 40.560445) & (df[\"dropoff_latitude\"] <= 40.908524)\n",
    "    ]\n",
    "    df = df[\n",
    "        (df[\"dropoff_longitude\"] >= -74.242330)\n",
    "        & (df[\"dropoff_longitude\"] <= -73.717047)\n",
    "    ]\n",
    "\n",
    "    # drop 0 passenger trips\n",
    "    df = df[df[\"passenger_count\"] != 0]\n",
    "\n",
    "    # drop trips with no fare\n",
    "    df = df[df[\"fare_amount\"] != 0]\n",
    "\n",
    "    # drop trips with no distance between dropoff and pickup\n",
    "    df = df[\n",
    "        (df[\"pickup_latitude\"] != df[\"dropoff_latitude\"])\n",
    "        | (df[\"pickup_longitude\"] != df[\"dropoff_longitude\"])\n",
    "    ]\n",
    "    df = df[df[\"trip_distance\"] != 0]\n",
    "\n",
    "    # normalize column types\n",
    "    df[\"pickup_datetime\"] = pd.to_datetime(df[\"pickup_datetime\"])\n",
    "\n",
    "    # sampling 2472 data for each month\n",
    "    df = df.sample(n=2472)\n",
    "\n",
    "    # drop unnecessary columns\n",
    "    df.drop([\"trip_distance\"], axis=1, inplace=True)\n",
    "    df.reset_index(drop=True)\n",
    "\n",
    "    # save to a csv file\n",
    "    df.to_csv(url, encoding=\"utf-8\", index=False)\n",
    "    return df"
   ]
  },
  {
   "cell_type": "code",
   "execution_count": 404,
   "id": "35c9c0cd",
   "metadata": {},
   "outputs": [
    {
     "data": {
      "application/javascript": [
       "\n",
       "            setTimeout(function() {\n",
       "                var nbb_cell_id = 404;\n",
       "                var nbb_unformatted_code = \"def get_and_clean_taxi_data():\\n    \\\"\\\"\\\"Get and clean the yellow taxi data for all the required month, return it in a whole dataframe\\\"\\\"\\\"\\n    all_taxi_dataframes = []\\n\\n    all_csv_urls = find_taxi_csv_urls()\\n    for csv_url in all_csv_urls:\\n        dataframe = get_and_clean_month_taxi_data(csv_url)\\n        add_distance_column(dataframe)\\n\\n        all_taxi_dataframes.append(dataframe)\\n\\n    # create one gigantic dataframe with data from every month needed\\n    taxi_data = pd.concat(all_taxi_dataframes)\\n    return taxi_data\";\n",
       "                var nbb_formatted_code = \"def get_and_clean_taxi_data():\\n    \\\"\\\"\\\"Get and clean the yellow taxi data for all the required month, return it in a whole dataframe\\\"\\\"\\\"\\n    all_taxi_dataframes = []\\n\\n    all_csv_urls = find_taxi_csv_urls()\\n    for csv_url in all_csv_urls:\\n        dataframe = get_and_clean_month_taxi_data(csv_url)\\n        add_distance_column(dataframe)\\n\\n        all_taxi_dataframes.append(dataframe)\\n\\n    # create one gigantic dataframe with data from every month needed\\n    taxi_data = pd.concat(all_taxi_dataframes)\\n    return taxi_data\";\n",
       "                var nbb_cells = Jupyter.notebook.get_cells();\n",
       "                for (var i = 0; i < nbb_cells.length; ++i) {\n",
       "                    if (nbb_cells[i].input_prompt_number == nbb_cell_id) {\n",
       "                        if (nbb_cells[i].get_text() == nbb_unformatted_code) {\n",
       "                             nbb_cells[i].set_text(nbb_formatted_code);\n",
       "                        }\n",
       "                        break;\n",
       "                    }\n",
       "                }\n",
       "            }, 500);\n",
       "            "
      ],
      "text/plain": [
       "<IPython.core.display.Javascript object>"
      ]
     },
     "metadata": {},
     "output_type": "display_data"
    }
   ],
   "source": [
    "def get_and_clean_taxi_data():\n",
    "    \"\"\"Get and clean the yellow taxi data for all the required month, return it in a whole dataframe\"\"\"\n",
    "    all_taxi_dataframes = []\n",
    "\n",
    "    all_csv_urls = find_taxi_csv_urls()\n",
    "    for csv_url in all_csv_urls:\n",
    "        dataframe = get_and_clean_month_taxi_data(csv_url)\n",
    "        add_distance_column(dataframe)\n",
    "\n",
    "        all_taxi_dataframes.append(dataframe)\n",
    "\n",
    "    # create one gigantic dataframe with data from every month needed\n",
    "    taxi_data = pd.concat(all_taxi_dataframes)\n",
    "    return taxi_data"
   ]
  },
  {
   "cell_type": "markdown",
   "id": "094b4d6d",
   "metadata": {},
   "source": [
    "### Processing Uber Data\n",
    "\n",
    "The uber_data is downloaded from https://drive.google.com/file/d/1F7D82w1D5151GXCR6BTEk7mNQ_YnPNDk/view and saved as \"uber_rides_sample.csv\" locally. The data is normalized and cleanned. The trips with pickup or dropoff outside the intended region are also removed. Trip distance is calculated by the coordinates as well. The mean of the monthly trip numbers is calculated to determine the sample size of the taxi data."
   ]
  },
  {
   "cell_type": "code",
   "execution_count": 405,
   "id": "7c58e3a2",
   "metadata": {},
   "outputs": [
    {
     "data": {
      "application/javascript": [
       "\n",
       "            setTimeout(function() {\n",
       "                var nbb_cell_id = 405;\n",
       "                var nbb_unformatted_code = \"def load_and_clean_uber_data(csv_file):\\n    \\\"\\\"\\\"Get the uber trip data of each month and return the trip data after cleaning.\\n\\n    Parameters:\\n    csv_file(str): the location of the csv file containting uber data.\\n\\n    Returns:\\n    df: a dataframe containing trip data.\\n    \\\"\\\"\\\"\\n    df = pd.read_csv(csv_file)\\n\\n    # drop OTC in datetime\\n    new = df[\\\"pickup_datetime\\\"].str.split(\\\" \\\", n=2, expand=True)\\n    df[\\\"pickup_datetime\\\"] = new[0] + \\\" \\\" + new[1]\\n\\n    # convert to datetime\\n    df[\\\"pickup_datetime\\\"] = pd.to_datetime(df[\\\"pickup_datetime\\\"])\\n\\n    # remove trips out side the designated coordbox (40.560445, -74.242330) and (40.908524, -73.717047)\\n    df = df[(df[\\\"pickup_latitude\\\"] >= 40.560445) & (df[\\\"pickup_latitude\\\"] <= 40.908524)]\\n    df = df[\\n        (df[\\\"pickup_longitude\\\"] >= -74.242330) & (df[\\\"pickup_longitude\\\"] <= -73.717047)\\n    ]\\n    df = df[\\n        (df[\\\"dropoff_latitude\\\"] >= 40.560445) & (df[\\\"dropoff_latitude\\\"] <= 40.908524)\\n    ]\\n    df = df[\\n        (df[\\\"dropoff_longitude\\\"] >= -74.242330)\\n        & (df[\\\"dropoff_longitude\\\"] <= -73.717047)\\n    ]\\n\\n    # drop 0 passenger trips\\n    df = df[df[\\\"passenger_count\\\"] != 0]\\n\\n    # drop trips with no fare\\n    df = df[df[\\\"fare_amount\\\"] != 0]\\n\\n    # drop trips with no distance between dropoff and pickup\\n    df = df[\\n        (df[\\\"pickup_latitude\\\"] != df[\\\"dropoff_latitude\\\"])\\n        | (df[\\\"pickup_longitude\\\"] != df[\\\"dropoff_longitude\\\"])\\n    ]\\n\\n    # drop unnecessary columns\\n    df.drop([\\\"Unnamed: 0\\\", \\\"key\\\"], axis=1, inplace=True)\\n\\n    # change column order in accordance with taxi data\\n    column_order = [\\n        \\\"pickup_datetime\\\",\\n        \\\"passenger_count\\\",\\n        \\\"fare_amount\\\",\\n        \\\"pickup_longitude\\\",\\n        \\\"pickup_latitude\\\",\\n        \\\"dropoff_longitude\\\",\\n        \\\"dropoff_latitude\\\",\\n    ]\\n    df = df[column_order]\\n\\n    return df\";\n",
       "                var nbb_formatted_code = \"def load_and_clean_uber_data(csv_file):\\n    \\\"\\\"\\\"Get the uber trip data of each month and return the trip data after cleaning.\\n\\n    Parameters:\\n    csv_file(str): the location of the csv file containting uber data.\\n\\n    Returns:\\n    df: a dataframe containing trip data.\\n    \\\"\\\"\\\"\\n    df = pd.read_csv(csv_file)\\n\\n    # drop OTC in datetime\\n    new = df[\\\"pickup_datetime\\\"].str.split(\\\" \\\", n=2, expand=True)\\n    df[\\\"pickup_datetime\\\"] = new[0] + \\\" \\\" + new[1]\\n\\n    # convert to datetime\\n    df[\\\"pickup_datetime\\\"] = pd.to_datetime(df[\\\"pickup_datetime\\\"])\\n\\n    # remove trips out side the designated coordbox (40.560445, -74.242330) and (40.908524, -73.717047)\\n    df = df[(df[\\\"pickup_latitude\\\"] >= 40.560445) & (df[\\\"pickup_latitude\\\"] <= 40.908524)]\\n    df = df[\\n        (df[\\\"pickup_longitude\\\"] >= -74.242330) & (df[\\\"pickup_longitude\\\"] <= -73.717047)\\n    ]\\n    df = df[\\n        (df[\\\"dropoff_latitude\\\"] >= 40.560445) & (df[\\\"dropoff_latitude\\\"] <= 40.908524)\\n    ]\\n    df = df[\\n        (df[\\\"dropoff_longitude\\\"] >= -74.242330)\\n        & (df[\\\"dropoff_longitude\\\"] <= -73.717047)\\n    ]\\n\\n    # drop 0 passenger trips\\n    df = df[df[\\\"passenger_count\\\"] != 0]\\n\\n    # drop trips with no fare\\n    df = df[df[\\\"fare_amount\\\"] != 0]\\n\\n    # drop trips with no distance between dropoff and pickup\\n    df = df[\\n        (df[\\\"pickup_latitude\\\"] != df[\\\"dropoff_latitude\\\"])\\n        | (df[\\\"pickup_longitude\\\"] != df[\\\"dropoff_longitude\\\"])\\n    ]\\n\\n    # drop unnecessary columns\\n    df.drop([\\\"Unnamed: 0\\\", \\\"key\\\"], axis=1, inplace=True)\\n\\n    # change column order in accordance with taxi data\\n    column_order = [\\n        \\\"pickup_datetime\\\",\\n        \\\"passenger_count\\\",\\n        \\\"fare_amount\\\",\\n        \\\"pickup_longitude\\\",\\n        \\\"pickup_latitude\\\",\\n        \\\"dropoff_longitude\\\",\\n        \\\"dropoff_latitude\\\",\\n    ]\\n    df = df[column_order]\\n\\n    return df\";\n",
       "                var nbb_cells = Jupyter.notebook.get_cells();\n",
       "                for (var i = 0; i < nbb_cells.length; ++i) {\n",
       "                    if (nbb_cells[i].input_prompt_number == nbb_cell_id) {\n",
       "                        if (nbb_cells[i].get_text() == nbb_unformatted_code) {\n",
       "                             nbb_cells[i].set_text(nbb_formatted_code);\n",
       "                        }\n",
       "                        break;\n",
       "                    }\n",
       "                }\n",
       "            }, 500);\n",
       "            "
      ],
      "text/plain": [
       "<IPython.core.display.Javascript object>"
      ]
     },
     "metadata": {},
     "output_type": "display_data"
    }
   ],
   "source": [
    "def load_and_clean_uber_data(csv_file):\n",
    "    \"\"\"Get the uber trip data of each month and return the trip data after cleaning.\n",
    "\n",
    "    Parameters:\n",
    "    csv_file(str): the location of the csv file containting uber data.\n",
    "\n",
    "    Returns:\n",
    "    df: a dataframe containing trip data.\n",
    "    \"\"\"\n",
    "    df = pd.read_csv(csv_file)\n",
    "\n",
    "    # drop OTC in datetime\n",
    "    new = df[\"pickup_datetime\"].str.split(\" \", n=2, expand=True)\n",
    "    df[\"pickup_datetime\"] = new[0] + \" \" + new[1]\n",
    "\n",
    "    # convert to datetime\n",
    "    df[\"pickup_datetime\"] = pd.to_datetime(df[\"pickup_datetime\"])\n",
    "\n",
    "    # remove trips out side the designated coordbox (40.560445, -74.242330) and (40.908524, -73.717047)\n",
    "    df = df[(df[\"pickup_latitude\"] >= 40.560445) & (df[\"pickup_latitude\"] <= 40.908524)]\n",
    "    df = df[\n",
    "        (df[\"pickup_longitude\"] >= -74.242330) & (df[\"pickup_longitude\"] <= -73.717047)\n",
    "    ]\n",
    "    df = df[\n",
    "        (df[\"dropoff_latitude\"] >= 40.560445) & (df[\"dropoff_latitude\"] <= 40.908524)\n",
    "    ]\n",
    "    df = df[\n",
    "        (df[\"dropoff_longitude\"] >= -74.242330)\n",
    "        & (df[\"dropoff_longitude\"] <= -73.717047)\n",
    "    ]\n",
    "\n",
    "    # drop 0 passenger trips\n",
    "    df = df[df[\"passenger_count\"] != 0]\n",
    "\n",
    "    # drop trips with no fare\n",
    "    df = df[df[\"fare_amount\"] != 0]\n",
    "\n",
    "    # drop trips with no distance between dropoff and pickup\n",
    "    df = df[\n",
    "        (df[\"pickup_latitude\"] != df[\"dropoff_latitude\"])\n",
    "        | (df[\"pickup_longitude\"] != df[\"dropoff_longitude\"])\n",
    "    ]\n",
    "\n",
    "    # drop unnecessary columns\n",
    "    df.drop([\"Unnamed: 0\", \"key\"], axis=1, inplace=True)\n",
    "\n",
    "    # change column order in accordance with taxi data\n",
    "    column_order = [\n",
    "        \"pickup_datetime\",\n",
    "        \"passenger_count\",\n",
    "        \"fare_amount\",\n",
    "        \"pickup_longitude\",\n",
    "        \"pickup_latitude\",\n",
    "        \"dropoff_longitude\",\n",
    "        \"dropoff_latitude\",\n",
    "    ]\n",
    "    df = df[column_order]\n",
    "\n",
    "    return df"
   ]
  },
  {
   "cell_type": "code",
   "execution_count": 406,
   "id": "f836f118",
   "metadata": {},
   "outputs": [
    {
     "data": {
      "application/javascript": [
       "\n",
       "            setTimeout(function() {\n",
       "                var nbb_cell_id = 406;\n",
       "                var nbb_unformatted_code = \"def get_uber_data():\\n    \\\"\\\"\\\"load the uber data and add the distance column to it\\\"\\\"\\\"\\n    uber_dataframe = load_and_clean_uber_data(UBER_CSV)\\n    add_distance_column(uber_dataframe)\\n    print(f\\\"The mean of each month's uber trip is {int(len(uber_dataframe)/78)}.\\\")\\n\\n    return uber_dataframe\";\n",
       "                var nbb_formatted_code = \"def get_uber_data():\\n    \\\"\\\"\\\"load the uber data and add the distance column to it\\\"\\\"\\\"\\n    uber_dataframe = load_and_clean_uber_data(UBER_CSV)\\n    add_distance_column(uber_dataframe)\\n    print(f\\\"The mean of each month's uber trip is {int(len(uber_dataframe)/78)}.\\\")\\n\\n    return uber_dataframe\";\n",
       "                var nbb_cells = Jupyter.notebook.get_cells();\n",
       "                for (var i = 0; i < nbb_cells.length; ++i) {\n",
       "                    if (nbb_cells[i].input_prompt_number == nbb_cell_id) {\n",
       "                        if (nbb_cells[i].get_text() == nbb_unformatted_code) {\n",
       "                             nbb_cells[i].set_text(nbb_formatted_code);\n",
       "                        }\n",
       "                        break;\n",
       "                    }\n",
       "                }\n",
       "            }, 500);\n",
       "            "
      ],
      "text/plain": [
       "<IPython.core.display.Javascript object>"
      ]
     },
     "metadata": {},
     "output_type": "display_data"
    }
   ],
   "source": [
    "def get_uber_data():\n",
    "    \"\"\"load the uber data and add the distance column to it\"\"\"\n",
    "    uber_dataframe = load_and_clean_uber_data(UBER_CSV)\n",
    "    add_distance_column(uber_dataframe)\n",
    "    print(f\"The mean of each month's uber trip is {int(len(uber_dataframe)/78)}.\")\n",
    "\n",
    "    return uber_dataframe"
   ]
  },
  {
   "cell_type": "markdown",
   "id": "f900f7aa",
   "metadata": {},
   "source": [
    "### Process All Data\n",
    "Load and process the required datasets."
   ]
  },
  {
   "cell_type": "code",
   "execution_count": null,
   "id": "f7cd53a6",
   "metadata": {},
   "outputs": [],
   "source": [
    "taxi_data = get_and_clean_taxi_data()\n",
    "uber_data = get_uber_data()"
   ]
  },
  {
   "cell_type": "markdown",
   "id": "dd101f11",
   "metadata": {},
   "source": [
    "## Part 2: Storing Cleaned Data\n",
    "\n",
    "Create the SQL tables for the sampled datasets of Yellow Taxi trips and Uber trips. A schema.sql file that defines each table’s schema is created as well. "
   ]
  },
  {
   "cell_type": "code",
   "execution_count": 369,
   "id": "f3529cf6",
   "metadata": {},
   "outputs": [
    {
     "data": {
      "application/javascript": [
       "\n",
       "            setTimeout(function() {\n",
       "                var nbb_cell_id = 369;\n",
       "                var nbb_unformatted_code = \"engine = db.create_engine(DATABASE_URL)\";\n",
       "                var nbb_formatted_code = \"engine = db.create_engine(DATABASE_URL)\";\n",
       "                var nbb_cells = Jupyter.notebook.get_cells();\n",
       "                for (var i = 0; i < nbb_cells.length; ++i) {\n",
       "                    if (nbb_cells[i].input_prompt_number == nbb_cell_id) {\n",
       "                        if (nbb_cells[i].get_text() == nbb_unformatted_code) {\n",
       "                             nbb_cells[i].set_text(nbb_formatted_code);\n",
       "                        }\n",
       "                        break;\n",
       "                    }\n",
       "                }\n",
       "            }, 500);\n",
       "            "
      ],
      "text/plain": [
       "<IPython.core.display.Javascript object>"
      ]
     },
     "metadata": {},
     "output_type": "display_data"
    }
   ],
   "source": [
    "engine = db.create_engine(DATABASE_URL)"
   ]
  },
  {
   "cell_type": "code",
   "execution_count": 407,
   "id": "d2bea0ff",
   "metadata": {},
   "outputs": [
    {
     "data": {
      "application/javascript": [
       "\n",
       "            setTimeout(function() {\n",
       "                var nbb_cell_id = 407;\n",
       "                var nbb_unformatted_code = \"TAXI_TRIPS_SCHEMA = \\\"\\\"\\\"\\nCREATE TABLE IF NOT EXISTS taxi_trips\\n(\\n    id INTEGER PRIMARY KEY,\\n    pickup_datetime DATETIME,\\n    passenger_count INTEGER,\\n    fare_amount FLOAT,\\n    tip_amount FLOAT,\\n    pickup_longitude FLOAT,\\n    pickup_latitude FLOAT,\\n    dropoff_longitude FLOAT,\\n    dropoff_latitude FLOAT,\\n    distance FLOAT\\n)\\n\\\"\\\"\\\"\\n\\nUBER_TRIPS_SCHEMA = \\\"\\\"\\\"\\nCREATE TABLE IF NOT EXISTS uber_trips\\n(\\n    id INTEGER PRIMARY KEY,\\n    pickup_datetime DATETIME,\\n    passenger_count INTEGER,\\n    fare_amount FLOAT,\\n    pickup_longitude FLOAT,\\n    pickup_latitude FLOAT,\\n    dropoff_longitude FLOAT,\\n    dropoff_latitude FLOAT,\\n    distance FLOAT\\n)\\n\\\"\\\"\\\"\";\n",
       "                var nbb_formatted_code = \"TAXI_TRIPS_SCHEMA = \\\"\\\"\\\"\\nCREATE TABLE IF NOT EXISTS taxi_trips\\n(\\n    id INTEGER PRIMARY KEY,\\n    pickup_datetime DATETIME,\\n    passenger_count INTEGER,\\n    fare_amount FLOAT,\\n    tip_amount FLOAT,\\n    pickup_longitude FLOAT,\\n    pickup_latitude FLOAT,\\n    dropoff_longitude FLOAT,\\n    dropoff_latitude FLOAT,\\n    distance FLOAT\\n)\\n\\\"\\\"\\\"\\n\\nUBER_TRIPS_SCHEMA = \\\"\\\"\\\"\\nCREATE TABLE IF NOT EXISTS uber_trips\\n(\\n    id INTEGER PRIMARY KEY,\\n    pickup_datetime DATETIME,\\n    passenger_count INTEGER,\\n    fare_amount FLOAT,\\n    pickup_longitude FLOAT,\\n    pickup_latitude FLOAT,\\n    dropoff_longitude FLOAT,\\n    dropoff_latitude FLOAT,\\n    distance FLOAT\\n)\\n\\\"\\\"\\\"\";\n",
       "                var nbb_cells = Jupyter.notebook.get_cells();\n",
       "                for (var i = 0; i < nbb_cells.length; ++i) {\n",
       "                    if (nbb_cells[i].input_prompt_number == nbb_cell_id) {\n",
       "                        if (nbb_cells[i].get_text() == nbb_unformatted_code) {\n",
       "                             nbb_cells[i].set_text(nbb_formatted_code);\n",
       "                        }\n",
       "                        break;\n",
       "                    }\n",
       "                }\n",
       "            }, 500);\n",
       "            "
      ],
      "text/plain": [
       "<IPython.core.display.Javascript object>"
      ]
     },
     "metadata": {},
     "output_type": "display_data"
    }
   ],
   "source": [
    "TAXI_TRIPS_SCHEMA = \"\"\"\n",
    "CREATE TABLE IF NOT EXISTS taxi_trips\n",
    "(\n",
    "    id INTEGER PRIMARY KEY,\n",
    "    pickup_datetime DATETIME,\n",
    "    passenger_count INTEGER,\n",
    "    fare_amount FLOAT,\n",
    "    tip_amount FLOAT,\n",
    "    pickup_longitude FLOAT,\n",
    "    pickup_latitude FLOAT,\n",
    "    dropoff_longitude FLOAT,\n",
    "    dropoff_latitude FLOAT,\n",
    "    distance FLOAT\n",
    ")\n",
    "\"\"\"\n",
    "\n",
    "UBER_TRIPS_SCHEMA = \"\"\"\n",
    "CREATE TABLE IF NOT EXISTS uber_trips\n",
    "(\n",
    "    id INTEGER PRIMARY KEY,\n",
    "    pickup_datetime DATETIME,\n",
    "    passenger_count INTEGER,\n",
    "    fare_amount FLOAT,\n",
    "    pickup_longitude FLOAT,\n",
    "    pickup_latitude FLOAT,\n",
    "    dropoff_longitude FLOAT,\n",
    "    dropoff_latitude FLOAT,\n",
    "    distance FLOAT\n",
    ")\n",
    "\"\"\""
   ]
  },
  {
   "cell_type": "code",
   "execution_count": 371,
   "id": "5f41e54b",
   "metadata": {},
   "outputs": [
    {
     "data": {
      "application/javascript": [
       "\n",
       "            setTimeout(function() {\n",
       "                var nbb_cell_id = 371;\n",
       "                var nbb_unformatted_code = \"# create that required schema.sql file\\nwith open(DATABASE_SCHEMA_FILE, \\\"w\\\") as f:\\n    # f.write(HOURLY_WEATHER_SCHEMA)\\n    # f.write(DAILY_WEATHER_SCHEMA)\\n    f.write(TAXI_TRIPS_SCHEMA)\\n    f.write(UBER_TRIPS_SCHEMA)\";\n",
       "                var nbb_formatted_code = \"# create that required schema.sql file\\nwith open(DATABASE_SCHEMA_FILE, \\\"w\\\") as f:\\n    # f.write(HOURLY_WEATHER_SCHEMA)\\n    # f.write(DAILY_WEATHER_SCHEMA)\\n    f.write(TAXI_TRIPS_SCHEMA)\\n    f.write(UBER_TRIPS_SCHEMA)\";\n",
       "                var nbb_cells = Jupyter.notebook.get_cells();\n",
       "                for (var i = 0; i < nbb_cells.length; ++i) {\n",
       "                    if (nbb_cells[i].input_prompt_number == nbb_cell_id) {\n",
       "                        if (nbb_cells[i].get_text() == nbb_unformatted_code) {\n",
       "                             nbb_cells[i].set_text(nbb_formatted_code);\n",
       "                        }\n",
       "                        break;\n",
       "                    }\n",
       "                }\n",
       "            }, 500);\n",
       "            "
      ],
      "text/plain": [
       "<IPython.core.display.Javascript object>"
      ]
     },
     "metadata": {},
     "output_type": "display_data"
    }
   ],
   "source": [
    "# create that required schema.sql file\n",
    "with open(DATABASE_SCHEMA_FILE, \"w\") as f:\n",
    "    f.write(TAXI_TRIPS_SCHEMA)\n",
    "    f.write(UBER_TRIPS_SCHEMA)"
   ]
  },
  {
   "cell_type": "code",
   "execution_count": 372,
   "id": "02eccdba",
   "metadata": {},
   "outputs": [
    {
     "data": {
      "application/javascript": [
       "\n",
       "            setTimeout(function() {\n",
       "                var nbb_cell_id = 372;\n",
       "                var nbb_unformatted_code = \"with engine.connect() as connection:\\n    connection.execute(TAXI_TRIPS_SCHEMA)\\n    connection.execute(UBER_TRIPS_SCHEMA)\";\n",
       "                var nbb_formatted_code = \"with engine.connect() as connection:\\n    connection.execute(TAXI_TRIPS_SCHEMA)\\n    connection.execute(UBER_TRIPS_SCHEMA)\";\n",
       "                var nbb_cells = Jupyter.notebook.get_cells();\n",
       "                for (var i = 0; i < nbb_cells.length; ++i) {\n",
       "                    if (nbb_cells[i].input_prompt_number == nbb_cell_id) {\n",
       "                        if (nbb_cells[i].get_text() == nbb_unformatted_code) {\n",
       "                             nbb_cells[i].set_text(nbb_formatted_code);\n",
       "                        }\n",
       "                        break;\n",
       "                    }\n",
       "                }\n",
       "            }, 500);\n",
       "            "
      ],
      "text/plain": [
       "<IPython.core.display.Javascript object>"
      ]
     },
     "metadata": {},
     "output_type": "display_data"
    }
   ],
   "source": [
    "with engine.connect() as connection:\n",
    "    connection.execute(TAXI_TRIPS_SCHEMA)\n",
    "    connection.execute(UBER_TRIPS_SCHEMA)"
   ]
  },
  {
   "cell_type": "markdown",
   "id": "c122964f",
   "metadata": {},
   "source": [
    "### Add Data to Database\n",
    "\n",
    "Populate tables for the sampled datasets of Yellow Taxi trips and Uber trips from the previously obtained dataframes."
   ]
  },
  {
   "cell_type": "code",
   "execution_count": 373,
   "id": "0e68a363",
   "metadata": {},
   "outputs": [
    {
     "data": {
      "application/javascript": [
       "\n",
       "            setTimeout(function() {\n",
       "                var nbb_cell_id = 373;\n",
       "                var nbb_unformatted_code = \"def write_dataframes_to_table(table_to_df_dict):\\n    \\\"\\\"\\\"Take in the dictionary mapping tables to names and add data from the corresponding dataframe\\\"\\\"\\\"\\n    for key, value in table_to_df_dict.items():\\n        value.to_sql(key, con=engine, if_exists=\\\"append\\\", index=False)\";\n",
       "                var nbb_formatted_code = \"def write_dataframes_to_table(table_to_df_dict):\\n    \\\"\\\"\\\"Take in the dictionary mapping tables to names and add data from the corresponding dataframe\\\"\\\"\\\"\\n    for key, value in table_to_df_dict.items():\\n        value.to_sql(key, con=engine, if_exists=\\\"append\\\", index=False)\";\n",
       "                var nbb_cells = Jupyter.notebook.get_cells();\n",
       "                for (var i = 0; i < nbb_cells.length; ++i) {\n",
       "                    if (nbb_cells[i].input_prompt_number == nbb_cell_id) {\n",
       "                        if (nbb_cells[i].get_text() == nbb_unformatted_code) {\n",
       "                             nbb_cells[i].set_text(nbb_formatted_code);\n",
       "                        }\n",
       "                        break;\n",
       "                    }\n",
       "                }\n",
       "            }, 500);\n",
       "            "
      ],
      "text/plain": [
       "<IPython.core.display.Javascript object>"
      ]
     },
     "metadata": {},
     "output_type": "display_data"
    }
   ],
   "source": [
    "def write_dataframes_to_table(table_to_df_dict):\n",
    "    \"\"\"Take in the dictionary mapping tables to names and add data from the corresponding dataframe\"\"\"\n",
    "    for key, value in table_to_df_dict.items():\n",
    "        value.to_sql(key, con=engine, if_exists=\"append\", index=False)"
   ]
  },
  {
   "cell_type": "code",
   "execution_count": 374,
   "id": "45d6c06c",
   "metadata": {},
   "outputs": [
    {
     "data": {
      "application/javascript": [
       "\n",
       "            setTimeout(function() {\n",
       "                var nbb_cell_id = 374;\n",
       "                var nbb_unformatted_code = \"map_table_name_to_dataframe = {\\n    \\\"taxi_trips\\\": taxi_data,\\n    \\\"uber_trips\\\": uber_data,\\n    #\\\"hourly_weather\\\": hourly_data,\\n    #\\\"daily_weather\\\": daily_data,\\n}\";\n",
       "                var nbb_formatted_code = \"map_table_name_to_dataframe = {\\n    \\\"taxi_trips\\\": taxi_data,\\n    \\\"uber_trips\\\": uber_data,\\n    # \\\"hourly_weather\\\": hourly_data,\\n    # \\\"daily_weather\\\": daily_data,\\n}\";\n",
       "                var nbb_cells = Jupyter.notebook.get_cells();\n",
       "                for (var i = 0; i < nbb_cells.length; ++i) {\n",
       "                    if (nbb_cells[i].input_prompt_number == nbb_cell_id) {\n",
       "                        if (nbb_cells[i].get_text() == nbb_unformatted_code) {\n",
       "                             nbb_cells[i].set_text(nbb_formatted_code);\n",
       "                        }\n",
       "                        break;\n",
       "                    }\n",
       "                }\n",
       "            }, 500);\n",
       "            "
      ],
      "text/plain": [
       "<IPython.core.display.Javascript object>"
      ]
     },
     "metadata": {},
     "output_type": "display_data"
    }
   ],
   "source": [
    "map_table_name_to_dataframe = {\n",
    "    \"taxi_trips\": taxi_data,\n",
    "    \"uber_trips\": uber_data\n",
    "}\n"
   ]
  },
  {
   "cell_type": "code",
   "execution_count": 375,
   "id": "74004f96",
   "metadata": {},
   "outputs": [
    {
     "data": {
      "application/javascript": [
       "\n",
       "            setTimeout(function() {\n",
       "                var nbb_cell_id = 375;\n",
       "                var nbb_unformatted_code = \"write_dataframes_to_table(map_table_name_to_dataframe)\";\n",
       "                var nbb_formatted_code = \"write_dataframes_to_table(map_table_name_to_dataframe)\";\n",
       "                var nbb_cells = Jupyter.notebook.get_cells();\n",
       "                for (var i = 0; i < nbb_cells.length; ++i) {\n",
       "                    if (nbb_cells[i].input_prompt_number == nbb_cell_id) {\n",
       "                        if (nbb_cells[i].get_text() == nbb_unformatted_code) {\n",
       "                             nbb_cells[i].set_text(nbb_formatted_code);\n",
       "                        }\n",
       "                        break;\n",
       "                    }\n",
       "                }\n",
       "            }, 500);\n",
       "            "
      ],
      "text/plain": [
       "<IPython.core.display.Javascript object>"
      ]
     },
     "metadata": {},
     "output_type": "display_data"
    }
   ],
   "source": [
    "write_dataframes_to_table(map_table_name_to_dataframe)"
   ]
  },
  {
   "cell_type": "markdown",
   "id": "8cb6e33e",
   "metadata": {},
   "source": [
    "## Part 3: Understanding the Data"
   ]
  },
  {
   "cell_type": "markdown",
   "id": "b4753fcd",
   "metadata": {},
   "source": [
    "Define and execute 4 SQL queries related to the data."
   ]
  },
  {
   "cell_type": "code",
   "execution_count": 378,
   "id": "6a849e92",
   "metadata": {},
   "outputs": [
    {
     "data": {
      "application/javascript": [
       "\n",
       "            setTimeout(function() {\n",
       "                var nbb_cell_id = 378;\n",
       "                var nbb_unformatted_code = \"def write_query_to_file(query, outfile):\\n    \\\"\\\"\\\"Take in the SQL query and write query to .sql file\\\"\\\"\\\"\\n    with open(outfile, \\\"w\\\") as f:\\n        f.write(query)\";\n",
       "                var nbb_formatted_code = \"def write_query_to_file(query, outfile):\\n    \\\"\\\"\\\"Take in the SQL query and write query to .sql file\\\"\\\"\\\"\\n    with open(outfile, \\\"w\\\") as f:\\n        f.write(query)\";\n",
       "                var nbb_cells = Jupyter.notebook.get_cells();\n",
       "                for (var i = 0; i < nbb_cells.length; ++i) {\n",
       "                    if (nbb_cells[i].input_prompt_number == nbb_cell_id) {\n",
       "                        if (nbb_cells[i].get_text() == nbb_unformatted_code) {\n",
       "                             nbb_cells[i].set_text(nbb_formatted_code);\n",
       "                        }\n",
       "                        break;\n",
       "                    }\n",
       "                }\n",
       "            }, 500);\n",
       "            "
      ],
      "text/plain": [
       "<IPython.core.display.Javascript object>"
      ]
     },
     "metadata": {},
     "output_type": "display_data"
    }
   ],
   "source": [
    "def write_query_to_file(query, outfile):\n",
    "    \"\"\"Take in the SQL query and write query to .sql file\"\"\"\n",
    "    with open(outfile, \"w\") as f:\n",
    "        f.write(query)\n"
   ]
  },
  {
   "cell_type": "markdown",
   "id": "ee70a777",
   "metadata": {},
   "source": [
    "### Query 1\n",
    "\n",
    "Retreive the most popular hour of the day to take a Yellow Taxi for 01-2009 through 06-2015.\n"
   ]
  },
  {
   "cell_type": "code",
   "execution_count": 379,
   "id": "db871d3c",
   "metadata": {},
   "outputs": [
    {
     "data": {
      "application/javascript": [
       "\n",
       "            setTimeout(function() {\n",
       "                var nbb_cell_id = 379;\n",
       "                var nbb_unformatted_code = \"TOP_HOUR_TAXI = \\\"\\\"\\\"\\nWITH cte_hourly_taxi_trips AS(\\n    SELECT \\n    strftime('%H',  pickup_datetime) AS hour, \\n    COUNT(id) AS trip_counts\\n    FROM taxi_trips\\n    GROUP BY hour\\n)\\nSELECT * FROM cte_hourly_taxi_trips ORDER BY trip_counts DESC \\n\\\"\\\"\\\"\";\n",
       "                var nbb_formatted_code = \"TOP_HOUR_TAXI = \\\"\\\"\\\"\\nWITH cte_hourly_taxi_trips AS(\\n    SELECT \\n    strftime('%H',  pickup_datetime) AS hour, \\n    COUNT(id) AS trip_counts\\n    FROM taxi_trips\\n    GROUP BY hour\\n)\\nSELECT * FROM cte_hourly_taxi_trips ORDER BY trip_counts DESC \\n\\\"\\\"\\\"\";\n",
       "                var nbb_cells = Jupyter.notebook.get_cells();\n",
       "                for (var i = 0; i < nbb_cells.length; ++i) {\n",
       "                    if (nbb_cells[i].input_prompt_number == nbb_cell_id) {\n",
       "                        if (nbb_cells[i].get_text() == nbb_unformatted_code) {\n",
       "                             nbb_cells[i].set_text(nbb_formatted_code);\n",
       "                        }\n",
       "                        break;\n",
       "                    }\n",
       "                }\n",
       "            }, 500);\n",
       "            "
      ],
      "text/plain": [
       "<IPython.core.display.Javascript object>"
      ]
     },
     "metadata": {},
     "output_type": "display_data"
    }
   ],
   "source": [
    "TOP_HOUR_TAXI = \"\"\"\n",
    "WITH cte_hourly_taxi_trips AS(\n",
    "    SELECT \n",
    "    strftime('%H',  pickup_datetime) AS hour, \n",
    "    COUNT(id) AS trip_counts\n",
    "    FROM taxi_trips\n",
    "    GROUP BY hour\n",
    ")\n",
    "SELECT * FROM cte_hourly_taxi_trips ORDER BY trip_counts DESC \n",
    "\"\"\""
   ]
  },
  {
   "cell_type": "code",
   "execution_count": 380,
   "id": "c5275f3a",
   "metadata": {},
   "outputs": [
    {
     "data": {
      "text/plain": [
       "[('19', 11999),\n",
       " ('18', 11536),\n",
       " ('20', 11382),\n",
       " ('21', 11025),\n",
       " ('22', 10786),\n",
       " ('14', 9841),\n",
       " ('23', 9788),\n",
       " ('17', 9627),\n",
       " ('12', 9415),\n",
       " ('15', 9314),\n",
       " ('13', 9291),\n",
       " ('11', 9047),\n",
       " ('09', 8794),\n",
       " ('08', 8685),\n",
       " ('10', 8650),\n",
       " ('16', 7898),\n",
       " ('00', 7663),\n",
       " ('07', 6922),\n",
       " ('01', 5697),\n",
       " ('02', 4197),\n",
       " ('06', 3977),\n",
       " ('03', 3062),\n",
       " ('04', 2289),\n",
       " ('05', 1931)]"
      ]
     },
     "execution_count": 380,
     "metadata": {},
     "output_type": "execute_result"
    },
    {
     "data": {
      "application/javascript": [
       "\n",
       "            setTimeout(function() {\n",
       "                var nbb_cell_id = 380;\n",
       "                var nbb_unformatted_code = \"engine.execute(TOP_HOUR_TAXI).fetchall()\";\n",
       "                var nbb_formatted_code = \"engine.execute(TOP_HOUR_TAXI).fetchall()\";\n",
       "                var nbb_cells = Jupyter.notebook.get_cells();\n",
       "                for (var i = 0; i < nbb_cells.length; ++i) {\n",
       "                    if (nbb_cells[i].input_prompt_number == nbb_cell_id) {\n",
       "                        if (nbb_cells[i].get_text() == nbb_unformatted_code) {\n",
       "                             nbb_cells[i].set_text(nbb_formatted_code);\n",
       "                        }\n",
       "                        break;\n",
       "                    }\n",
       "                }\n",
       "            }, 500);\n",
       "            "
      ],
      "text/plain": [
       "<IPython.core.display.Javascript object>"
      ]
     },
     "metadata": {},
     "output_type": "display_data"
    }
   ],
   "source": [
    "engine.execute(TOP_HOUR_TAXI).fetchall()"
   ]
  },
  {
   "cell_type": "code",
   "execution_count": 381,
   "id": "a2ef04df",
   "metadata": {},
   "outputs": [
    {
     "data": {
      "application/javascript": [
       "\n",
       "            setTimeout(function() {\n",
       "                var nbb_cell_id = 381;\n",
       "                var nbb_unformatted_code = \"write_query_to_file(TOP_HOUR_TAXI, \\\"top_hour_taxi.sql\\\")\";\n",
       "                var nbb_formatted_code = \"write_query_to_file(TOP_HOUR_TAXI, \\\"top_hour_taxi.sql\\\")\";\n",
       "                var nbb_cells = Jupyter.notebook.get_cells();\n",
       "                for (var i = 0; i < nbb_cells.length; ++i) {\n",
       "                    if (nbb_cells[i].input_prompt_number == nbb_cell_id) {\n",
       "                        if (nbb_cells[i].get_text() == nbb_unformatted_code) {\n",
       "                             nbb_cells[i].set_text(nbb_formatted_code);\n",
       "                        }\n",
       "                        break;\n",
       "                    }\n",
       "                }\n",
       "            }, 500);\n",
       "            "
      ],
      "text/plain": [
       "<IPython.core.display.Javascript object>"
      ]
     },
     "metadata": {},
     "output_type": "display_data"
    }
   ],
   "source": [
    "write_query_to_file(TOP_HOUR_TAXI, \"top_hour_taxi.sql\")"
   ]
  },
  {
   "cell_type": "markdown",
   "id": "b67e5bc1",
   "metadata": {},
   "source": [
    "### Query 2\n",
    "Retrieve data about the day of the week was the most popular to take an Uber for 01-2009 through 06-2015. '0' represents Sunday."
   ]
  },
  {
   "cell_type": "code",
   "execution_count": 382,
   "id": "a2c4123e",
   "metadata": {},
   "outputs": [
    {
     "data": {
      "application/javascript": [
       "\n",
       "            setTimeout(function() {\n",
       "                var nbb_cell_id = 382;\n",
       "                var nbb_unformatted_code = \"TOP_DAY_UBER = \\\"\\\"\\\"\\nWITH cte_daily_uber_trips AS(\\n    SELECT \\n    strftime('%w',  pickup_datetime) AS hour, \\n    COUNT(id) AS trip_counts\\n    FROM uber_trips\\n    GROUP BY hour\\n)\\nSELECT * FROM cte_daily_uber_trips ORDER BY trip_counts DESC \\n\\\"\\\"\\\"\";\n",
       "                var nbb_formatted_code = \"TOP_DAY_UBER = \\\"\\\"\\\"\\nWITH cte_daily_uber_trips AS(\\n    SELECT \\n    strftime('%w',  pickup_datetime) AS hour, \\n    COUNT(id) AS trip_counts\\n    FROM uber_trips\\n    GROUP BY hour\\n)\\nSELECT * FROM cte_daily_uber_trips ORDER BY trip_counts DESC \\n\\\"\\\"\\\"\";\n",
       "                var nbb_cells = Jupyter.notebook.get_cells();\n",
       "                for (var i = 0; i < nbb_cells.length; ++i) {\n",
       "                    if (nbb_cells[i].input_prompt_number == nbb_cell_id) {\n",
       "                        if (nbb_cells[i].get_text() == nbb_unformatted_code) {\n",
       "                             nbb_cells[i].set_text(nbb_formatted_code);\n",
       "                        }\n",
       "                        break;\n",
       "                    }\n",
       "                }\n",
       "            }, 500);\n",
       "            "
      ],
      "text/plain": [
       "<IPython.core.display.Javascript object>"
      ]
     },
     "metadata": {},
     "output_type": "display_data"
    }
   ],
   "source": [
    "TOP_DAY_UBER = \"\"\"\n",
    "WITH cte_daily_uber_trips AS(\n",
    "    SELECT \n",
    "    strftime('%w',  pickup_datetime) AS hour, \n",
    "    COUNT(id) AS trip_counts\n",
    "    FROM uber_trips\n",
    "    GROUP BY hour\n",
    ")\n",
    "SELECT * FROM cte_daily_uber_trips ORDER BY trip_counts DESC \n",
    "\"\"\""
   ]
  },
  {
   "cell_type": "code",
   "execution_count": 383,
   "id": "dc2d6676",
   "metadata": {},
   "outputs": [
    {
     "data": {
      "text/plain": [
       "[('5', 29749),\n",
       " ('6', 29213),\n",
       " ('4', 28960),\n",
       " ('3', 27971),\n",
       " ('2', 27152),\n",
       " ('0', 25503),\n",
       " ('1', 24280)]"
      ]
     },
     "execution_count": 383,
     "metadata": {},
     "output_type": "execute_result"
    },
    {
     "data": {
      "application/javascript": [
       "\n",
       "            setTimeout(function() {\n",
       "                var nbb_cell_id = 383;\n",
       "                var nbb_unformatted_code = \"engine.execute(TOP_DAY_UBER).fetchall()\";\n",
       "                var nbb_formatted_code = \"engine.execute(TOP_DAY_UBER).fetchall()\";\n",
       "                var nbb_cells = Jupyter.notebook.get_cells();\n",
       "                for (var i = 0; i < nbb_cells.length; ++i) {\n",
       "                    if (nbb_cells[i].input_prompt_number == nbb_cell_id) {\n",
       "                        if (nbb_cells[i].get_text() == nbb_unformatted_code) {\n",
       "                             nbb_cells[i].set_text(nbb_formatted_code);\n",
       "                        }\n",
       "                        break;\n",
       "                    }\n",
       "                }\n",
       "            }, 500);\n",
       "            "
      ],
      "text/plain": [
       "<IPython.core.display.Javascript object>"
      ]
     },
     "metadata": {},
     "output_type": "display_data"
    }
   ],
   "source": [
    "engine.execute(TOP_DAY_UBER).fetchall()"
   ]
  },
  {
   "cell_type": "code",
   "execution_count": 384,
   "id": "c1bc85a1",
   "metadata": {},
   "outputs": [
    {
     "data": {
      "application/javascript": [
       "\n",
       "            setTimeout(function() {\n",
       "                var nbb_cell_id = 384;\n",
       "                var nbb_unformatted_code = \"write_query_to_file(TOP_DAY_UBER, \\\"top_day_uber.sql\\\")\";\n",
       "                var nbb_formatted_code = \"write_query_to_file(TOP_DAY_UBER, \\\"top_day_uber.sql\\\")\";\n",
       "                var nbb_cells = Jupyter.notebook.get_cells();\n",
       "                for (var i = 0; i < nbb_cells.length; ++i) {\n",
       "                    if (nbb_cells[i].input_prompt_number == nbb_cell_id) {\n",
       "                        if (nbb_cells[i].get_text() == nbb_unformatted_code) {\n",
       "                             nbb_cells[i].set_text(nbb_formatted_code);\n",
       "                        }\n",
       "                        break;\n",
       "                    }\n",
       "                }\n",
       "            }, 500);\n",
       "            "
      ],
      "text/plain": [
       "<IPython.core.display.Javascript object>"
      ]
     },
     "metadata": {},
     "output_type": "display_data"
    }
   ],
   "source": [
    "write_query_to_file(TOP_DAY_UBER, \"top_day_uber.sql\")"
   ]
  },
  {
   "cell_type": "markdown",
   "id": "17257935",
   "metadata": {},
   "source": [
    "### Query 3\n",
    "\n",
    "Calculate the 95% percentile of distance traveled for all hired trips during July 2013."
   ]
  },
  {
   "cell_type": "code",
   "execution_count": 385,
   "id": "1b2af7f1",
   "metadata": {},
   "outputs": [
    {
     "data": {
      "application/javascript": [
       "\n",
       "            setTimeout(function() {\n",
       "                var nbb_cell_id = 385;\n",
       "                var nbb_unformatted_code = \"DIST_95_PERCENTILE = \\\"\\\"\\\"\\nWITH cte_distance AS(\\n    SELECT strftime('%Y-%m-%d', pickup_datetime) as date, distance\\n    FROM taxi_trips\\n    WHERE date < '2013-08-01' AND date >= '2013-07-01'\\n    UNION ALL\\n    SELECT strftime('%Y-%m-%d', pickup_datetime) as date, distance\\n    FROM uber_trips\\n    WHERE date < '2013-08-01' AND date >= '2013-07-01'\\n),\\ndist_percentile AS (\\n    SELECT distance, NTILE(100) OVER(ORDER BY distance ASC) AS percentile\\n    FROM cte_distance\\n)\\nSELECT MAX(distance) FROM dist_percentile WHERE percentile = 95\\n\\\"\\\"\\\"\";\n",
       "                var nbb_formatted_code = \"DIST_95_PERCENTILE = \\\"\\\"\\\"\\nWITH cte_distance AS(\\n    SELECT strftime('%Y-%m-%d', pickup_datetime) as date, distance\\n    FROM taxi_trips\\n    WHERE date < '2013-08-01' AND date >= '2013-07-01'\\n    UNION ALL\\n    SELECT strftime('%Y-%m-%d', pickup_datetime) as date, distance\\n    FROM uber_trips\\n    WHERE date < '2013-08-01' AND date >= '2013-07-01'\\n),\\ndist_percentile AS (\\n    SELECT distance, NTILE(100) OVER(ORDER BY distance ASC) AS percentile\\n    FROM cte_distance\\n)\\nSELECT MAX(distance) FROM dist_percentile WHERE percentile = 95\\n\\\"\\\"\\\"\";\n",
       "                var nbb_cells = Jupyter.notebook.get_cells();\n",
       "                for (var i = 0; i < nbb_cells.length; ++i) {\n",
       "                    if (nbb_cells[i].input_prompt_number == nbb_cell_id) {\n",
       "                        if (nbb_cells[i].get_text() == nbb_unformatted_code) {\n",
       "                             nbb_cells[i].set_text(nbb_formatted_code);\n",
       "                        }\n",
       "                        break;\n",
       "                    }\n",
       "                }\n",
       "            }, 500);\n",
       "            "
      ],
      "text/plain": [
       "<IPython.core.display.Javascript object>"
      ]
     },
     "metadata": {},
     "output_type": "display_data"
    }
   ],
   "source": [
    "DIST_95_PERCENTILE = \"\"\"\n",
    "WITH cte_distance AS(\n",
    "    SELECT strftime('%Y-%m-%d', pickup_datetime) as date, distance\n",
    "    FROM taxi_trips\n",
    "    WHERE date < '2013-08-01' AND date >= '2013-07-01'\n",
    "    UNION ALL\n",
    "    SELECT strftime('%Y-%m-%d', pickup_datetime) as date, distance\n",
    "    FROM uber_trips\n",
    "    WHERE date < '2013-08-01' AND date >= '2013-07-01'\n",
    "),\n",
    "dist_percentile AS (\n",
    "    SELECT distance, NTILE(100) OVER(ORDER BY distance ASC) AS percentile\n",
    "    FROM cte_distance\n",
    ")\n",
    "SELECT MAX(distance) FROM dist_percentile WHERE percentile = 95\n",
    "\"\"\""
   ]
  },
  {
   "cell_type": "code",
   "execution_count": 386,
   "id": "e2b94972",
   "metadata": {},
   "outputs": [
    {
     "data": {
      "text/plain": [
       "[(10.195567902621471,)]"
      ]
     },
     "execution_count": 386,
     "metadata": {},
     "output_type": "execute_result"
    },
    {
     "data": {
      "application/javascript": [
       "\n",
       "            setTimeout(function() {\n",
       "                var nbb_cell_id = 386;\n",
       "                var nbb_unformatted_code = \"engine.execute(DIST_95_PERCENTILE).fetchall()\";\n",
       "                var nbb_formatted_code = \"engine.execute(DIST_95_PERCENTILE).fetchall()\";\n",
       "                var nbb_cells = Jupyter.notebook.get_cells();\n",
       "                for (var i = 0; i < nbb_cells.length; ++i) {\n",
       "                    if (nbb_cells[i].input_prompt_number == nbb_cell_id) {\n",
       "                        if (nbb_cells[i].get_text() == nbb_unformatted_code) {\n",
       "                             nbb_cells[i].set_text(nbb_formatted_code);\n",
       "                        }\n",
       "                        break;\n",
       "                    }\n",
       "                }\n",
       "            }, 500);\n",
       "            "
      ],
      "text/plain": [
       "<IPython.core.display.Javascript object>"
      ]
     },
     "metadata": {},
     "output_type": "display_data"
    }
   ],
   "source": [
    "engine.execute(DIST_95_PERCENTILE).fetchall()"
   ]
  },
  {
   "cell_type": "code",
   "execution_count": 387,
   "id": "0e4be0e2",
   "metadata": {},
   "outputs": [
    {
     "data": {
      "application/javascript": [
       "\n",
       "            setTimeout(function() {\n",
       "                var nbb_cell_id = 387;\n",
       "                var nbb_unformatted_code = \"write_query_to_file(DIST_95_PERCENTILE, \\\"dist_95_percentile.sql\\\")\";\n",
       "                var nbb_formatted_code = \"write_query_to_file(DIST_95_PERCENTILE, \\\"dist_95_percentile.sql\\\")\";\n",
       "                var nbb_cells = Jupyter.notebook.get_cells();\n",
       "                for (var i = 0; i < nbb_cells.length; ++i) {\n",
       "                    if (nbb_cells[i].input_prompt_number == nbb_cell_id) {\n",
       "                        if (nbb_cells[i].get_text() == nbb_unformatted_code) {\n",
       "                             nbb_cells[i].set_text(nbb_formatted_code);\n",
       "                        }\n",
       "                        break;\n",
       "                    }\n",
       "                }\n",
       "            }, 500);\n",
       "            "
      ],
      "text/plain": [
       "<IPython.core.display.Javascript object>"
      ]
     },
     "metadata": {},
     "output_type": "display_data"
    }
   ],
   "source": [
    "write_query_to_file(DIST_95_PERCENTILE, \"dist_95_percentile.sql\")"
   ]
  },
  {
   "cell_type": "markdown",
   "id": "97316133",
   "metadata": {},
   "source": [
    "### Query 4\n",
    "\n",
    "Retrieve the data about the top 10 days with the highest number of hired rides for 2009, and the corresponding average distance for each day."
   ]
  },
  {
   "cell_type": "code",
   "execution_count": 389,
   "id": "c9ff9f46",
   "metadata": {},
   "outputs": [
    {
     "data": {
      "application/javascript": [
       "\n",
       "            setTimeout(function() {\n",
       "                var nbb_cell_id = 389;\n",
       "                var nbb_unformatted_code = \"TOP_10_RIDE_DAY = \\\"\\\"\\\"\\nWITH cte_rides_days AS(\\n    SELECT \\n    strftime('%Y-%m-%d', pickup_datetime) as date, \\n    COUNT(id) AS count, \\n    SUM(distance) AS dist_sum\\n    FROM taxi_trips\\n    WHERE date < '2010-01-01' AND date >= '2009-01-01'\\n    GROUP BY date\\n    UNION ALL\\n    SELECT \\n    strftime('%Y-%m-%d', pickup_datetime) as date, \\n    COUNT(id) AS count, \\n    SUM(distance) AS dist_sum\\n    FROM uber_trips\\n    WHERE date < '2010-01-01' AND date >= '2009-01-01'\\n    GROUP BY date\\n),\\nall_rides_days AS(\\n    SELECT date, \\n    SUM(count) AS total_count, \\n    SUM(dist_sum) AS total_dist\\n    FROM cte_rides_days\\n    GROUP BY date\\n)\\nSELECT date, total_count, total_dist / total_count \\nFROM all_rides_days \\nORDER BY total_count DESC LIMIT 10\\n\\\"\\\"\\\"\";\n",
       "                var nbb_formatted_code = \"TOP_10_RIDE_DAY = \\\"\\\"\\\"\\nWITH cte_rides_days AS(\\n    SELECT \\n    strftime('%Y-%m-%d', pickup_datetime) as date, \\n    COUNT(id) AS count, \\n    SUM(distance) AS dist_sum\\n    FROM taxi_trips\\n    WHERE date < '2010-01-01' AND date >= '2009-01-01'\\n    GROUP BY date\\n    UNION ALL\\n    SELECT \\n    strftime('%Y-%m-%d', pickup_datetime) as date, \\n    COUNT(id) AS count, \\n    SUM(distance) AS dist_sum\\n    FROM uber_trips\\n    WHERE date < '2010-01-01' AND date >= '2009-01-01'\\n    GROUP BY date\\n),\\nall_rides_days AS(\\n    SELECT date, \\n    SUM(count) AS total_count, \\n    SUM(dist_sum) AS total_dist\\n    FROM cte_rides_days\\n    GROUP BY date\\n)\\nSELECT date, total_count, total_dist / total_count \\nFROM all_rides_days \\nORDER BY total_count DESC LIMIT 10\\n\\\"\\\"\\\"\";\n",
       "                var nbb_cells = Jupyter.notebook.get_cells();\n",
       "                for (var i = 0; i < nbb_cells.length; ++i) {\n",
       "                    if (nbb_cells[i].input_prompt_number == nbb_cell_id) {\n",
       "                        if (nbb_cells[i].get_text() == nbb_unformatted_code) {\n",
       "                             nbb_cells[i].set_text(nbb_formatted_code);\n",
       "                        }\n",
       "                        break;\n",
       "                    }\n",
       "                }\n",
       "            }, 500);\n",
       "            "
      ],
      "text/plain": [
       "<IPython.core.display.Javascript object>"
      ]
     },
     "metadata": {},
     "output_type": "display_data"
    }
   ],
   "source": [
    "TOP_10_RIDE_DAY = \"\"\"\n",
    "WITH cte_rides_days AS(\n",
    "    SELECT \n",
    "    strftime('%Y-%m-%d', pickup_datetime) as date, \n",
    "    COUNT(id) AS count, \n",
    "    SUM(distance) AS dist_sum\n",
    "    FROM taxi_trips\n",
    "    WHERE date < '2010-01-01' AND date >= '2009-01-01'\n",
    "    GROUP BY date\n",
    "    UNION ALL\n",
    "    SELECT \n",
    "    strftime('%Y-%m-%d', pickup_datetime) as date, \n",
    "    COUNT(id) AS count, \n",
    "    SUM(distance) AS dist_sum\n",
    "    FROM uber_trips\n",
    "    WHERE date < '2010-01-01' AND date >= '2009-01-01'\n",
    "    GROUP BY date\n",
    "),\n",
    "all_rides_days AS(\n",
    "    SELECT date, \n",
    "    SUM(count) AS total_count, \n",
    "    SUM(dist_sum) AS total_dist\n",
    "    FROM cte_rides_days\n",
    "    GROUP BY date\n",
    ")\n",
    "SELECT date, total_count, total_dist / total_count \n",
    "FROM all_rides_days \n",
    "ORDER BY total_count DESC LIMIT 10\n",
    "\"\"\""
   ]
  },
  {
   "cell_type": "code",
   "execution_count": 390,
   "id": "ac34311c",
   "metadata": {},
   "outputs": [
    {
     "data": {
      "text/plain": [
       "[('2009-12-11', 226, 3.142264342276315),\n",
       " ('2009-04-18', 220, 3.188951775368384),\n",
       " ('2009-08-14', 220, 3.3641864199594718),\n",
       " ('2009-07-23', 212, 3.224315172492889),\n",
       " ('2009-12-05', 211, 3.2907521948219327),\n",
       " ('2009-05-08', 206, 2.96602874714709),\n",
       " ('2009-01-31', 205, 2.822620780022768),\n",
       " ('2009-05-16', 205, 2.8882596886989664),\n",
       " ('2009-01-17', 204, 3.4296935771773964),\n",
       " ('2009-04-03', 204, 3.037766795868516)]"
      ]
     },
     "execution_count": 390,
     "metadata": {},
     "output_type": "execute_result"
    },
    {
     "data": {
      "application/javascript": [
       "\n",
       "            setTimeout(function() {\n",
       "                var nbb_cell_id = 390;\n",
       "                var nbb_unformatted_code = \"engine.execute(TOP_10_RIDE_DAY).fetchall()\";\n",
       "                var nbb_formatted_code = \"engine.execute(TOP_10_RIDE_DAY).fetchall()\";\n",
       "                var nbb_cells = Jupyter.notebook.get_cells();\n",
       "                for (var i = 0; i < nbb_cells.length; ++i) {\n",
       "                    if (nbb_cells[i].input_prompt_number == nbb_cell_id) {\n",
       "                        if (nbb_cells[i].get_text() == nbb_unformatted_code) {\n",
       "                             nbb_cells[i].set_text(nbb_formatted_code);\n",
       "                        }\n",
       "                        break;\n",
       "                    }\n",
       "                }\n",
       "            }, 500);\n",
       "            "
      ],
      "text/plain": [
       "<IPython.core.display.Javascript object>"
      ]
     },
     "metadata": {},
     "output_type": "display_data"
    }
   ],
   "source": [
    "engine.execute(TOP_10_RIDE_DAY).fetchall()"
   ]
  },
  {
   "cell_type": "code",
   "execution_count": 391,
   "id": "e98e5595",
   "metadata": {},
   "outputs": [
    {
     "data": {
      "application/javascript": [
       "\n",
       "            setTimeout(function() {\n",
       "                var nbb_cell_id = 391;\n",
       "                var nbb_unformatted_code = \"write_query_to_file(TOP_10_RIDE_DAY, \\\"top_10_ride_day.sql\\\")\";\n",
       "                var nbb_formatted_code = \"write_query_to_file(TOP_10_RIDE_DAY, \\\"top_10_ride_day.sql\\\")\";\n",
       "                var nbb_cells = Jupyter.notebook.get_cells();\n",
       "                for (var i = 0; i < nbb_cells.length; ++i) {\n",
       "                    if (nbb_cells[i].input_prompt_number == nbb_cell_id) {\n",
       "                        if (nbb_cells[i].get_text() == nbb_unformatted_code) {\n",
       "                             nbb_cells[i].set_text(nbb_formatted_code);\n",
       "                        }\n",
       "                        break;\n",
       "                    }\n",
       "                }\n",
       "            }, 500);\n",
       "            "
      ],
      "text/plain": [
       "<IPython.core.display.Javascript object>"
      ]
     },
     "metadata": {},
     "output_type": "display_data"
    }
   ],
   "source": [
    "write_query_to_file(TOP_10_RIDE_DAY, \"top_10_ride_day.sql\")"
   ]
  },
  {
   "cell_type": "markdown",
   "id": "a13ced42",
   "metadata": {},
   "source": [
    "## Part 4: Visualizing the Data"
   ]
  },
  {
   "cell_type": "markdown",
   "id": "6d9eef42",
   "metadata": {},
   "source": [
    "### Visualization 1\n",
    "\n",
    "Create a bar chart to visualize the most popular hour of the day to take a Yellow Taxi for 01-2009 through 06-2015 using the ```sns``` package."
   ]
  },
  {
   "cell_type": "code",
   "execution_count": 392,
   "id": "0de8394c",
   "metadata": {},
   "outputs": [
    {
     "data": {
      "application/javascript": [
       "\n",
       "            setTimeout(function() {\n",
       "                var nbb_cell_id = 392;\n",
       "                var nbb_unformatted_code = \"def plot_top_hour_taxi(dataframe):\\n    \\\"\\\"\\\"Take in a dataframe and create a bar chart of trips in different hours from the data\\\"\\\"\\\"\\n    figure, axes = plt.subplots(figsize=(20, 10))\\n\\n    sns.barplot(data=dataframe, x=\\\"hour\\\", y=\\\"trip_counts\\\", palette=\\\"rocket\\\")\\n    axes.set_title(\\n        \\\"Barplot of Yellow Taxi's Total Trips Numbers of Daily Hours\\\", fontsize=18\\n    )\\n    axes.set_xlabel(\\\"Daily Hour\\\", fontsize=16)\\n    axes.set_ylabel(\\\"Trips\\\", fontsize=16)\\n\\n    plt.show()\";\n",
       "                var nbb_formatted_code = \"def plot_top_hour_taxi(dataframe):\\n    \\\"\\\"\\\"Take in a dataframe and create a bar chart of trips in different hours from the data\\\"\\\"\\\"\\n    figure, axes = plt.subplots(figsize=(20, 10))\\n\\n    sns.barplot(data=dataframe, x=\\\"hour\\\", y=\\\"trip_counts\\\", palette=\\\"rocket\\\")\\n    axes.set_title(\\n        \\\"Barplot of Yellow Taxi's Total Trips Numbers of Daily Hours\\\", fontsize=18\\n    )\\n    axes.set_xlabel(\\\"Daily Hour\\\", fontsize=16)\\n    axes.set_ylabel(\\\"Trips\\\", fontsize=16)\\n\\n    plt.show()\";\n",
       "                var nbb_cells = Jupyter.notebook.get_cells();\n",
       "                for (var i = 0; i < nbb_cells.length; ++i) {\n",
       "                    if (nbb_cells[i].input_prompt_number == nbb_cell_id) {\n",
       "                        if (nbb_cells[i].get_text() == nbb_unformatted_code) {\n",
       "                             nbb_cells[i].set_text(nbb_formatted_code);\n",
       "                        }\n",
       "                        break;\n",
       "                    }\n",
       "                }\n",
       "            }, 500);\n",
       "            "
      ],
      "text/plain": [
       "<IPython.core.display.Javascript object>"
      ]
     },
     "metadata": {},
     "output_type": "display_data"
    }
   ],
   "source": [
    "def plot_top_hour_taxi(dataframe):\n",
    "    \"\"\"Take in a dataframe and create a bar chart of trips in different hours from the data\"\"\"\n",
    "    figure, axes = plt.subplots(figsize=(20, 10))\n",
    "\n",
    "    sns.barplot(data=dataframe, x=\"hour\", y=\"trip_counts\", palette=\"rocket\")\n",
    "    axes.set_title(\n",
    "        \"Barplot of Yellow Taxi's Total Trips Numbers of Daily Hours\", fontsize=18\n",
    "    )\n",
    "    axes.set_xlabel(\"Daily Hour\", fontsize=16)\n",
    "    axes.set_ylabel(\"Trips\", fontsize=16)\n",
    "\n",
    "    plt.show()"
   ]
  },
  {
   "cell_type": "code",
   "execution_count": 403,
   "id": "847ced2f",
   "metadata": {},
   "outputs": [
    {
     "data": {
      "application/javascript": [
       "\n",
       "            setTimeout(function() {\n",
       "                var nbb_cell_id = 403;\n",
       "                var nbb_unformatted_code = \"def get_data_for_taxi_trips():\\n    \\\"\\\"\\\"Retrieve the required data from the database and return a dataframe\\\"\\\"\\\"\\n    return pd.read_sql(TOP_HOUR_TAXI, engine)\";\n",
       "                var nbb_formatted_code = \"def get_data_for_taxi_trips():\\n    \\\"\\\"\\\"Retrieve the required data from the database and return a dataframe\\\"\\\"\\\"\\n    return pd.read_sql(TOP_HOUR_TAXI, engine)\";\n",
       "                var nbb_cells = Jupyter.notebook.get_cells();\n",
       "                for (var i = 0; i < nbb_cells.length; ++i) {\n",
       "                    if (nbb_cells[i].input_prompt_number == nbb_cell_id) {\n",
       "                        if (nbb_cells[i].get_text() == nbb_unformatted_code) {\n",
       "                             nbb_cells[i].set_text(nbb_formatted_code);\n",
       "                        }\n",
       "                        break;\n",
       "                    }\n",
       "                }\n",
       "            }, 500);\n",
       "            "
      ],
      "text/plain": [
       "<IPython.core.display.Javascript object>"
      ]
     },
     "metadata": {},
     "output_type": "display_data"
    }
   ],
   "source": [
    "def get_data_for_taxi_trips():\n",
    "    \"\"\"Retrieve the required data from the database and return a dataframe\"\"\"\n",
    "    return pd.read_sql(TOP_HOUR_TAXI, engine)"
   ]
  },
  {
   "cell_type": "code",
   "execution_count": 394,
   "id": "3c63e845",
   "metadata": {},
   "outputs": [
    {
     "data": {
      "image/png": "[encoded data removed]",
      "text/plain": [
       "<Figure size 2000x1000 with 1 Axes>"
      ]
     },
     "metadata": {},
     "output_type": "display_data"
    },
    {
     "data": {
      "application/javascript": [
       "\n",
       "            setTimeout(function() {\n",
       "                var nbb_cell_id = 394;\n",
       "                var nbb_unformatted_code = \"top_hour_taxi = get_data_for_taxi_trips()\\nplot_top_hour_taxi(top_hour_taxi)\";\n",
       "                var nbb_formatted_code = \"top_hour_taxi = get_data_for_taxi_trips()\\nplot_top_hour_taxi(top_hour_taxi)\";\n",
       "                var nbb_cells = Jupyter.notebook.get_cells();\n",
       "                for (var i = 0; i < nbb_cells.length; ++i) {\n",
       "                    if (nbb_cells[i].input_prompt_number == nbb_cell_id) {\n",
       "                        if (nbb_cells[i].get_text() == nbb_unformatted_code) {\n",
       "                             nbb_cells[i].set_text(nbb_formatted_code);\n",
       "                        }\n",
       "                        break;\n",
       "                    }\n",
       "                }\n",
       "            }, 500);\n",
       "            "
      ],
      "text/plain": [
       "<IPython.core.display.Javascript object>"
      ]
     },
     "metadata": {},
     "output_type": "display_data"
    }
   ],
   "source": [
    "top_hour_taxi = get_data_for_taxi_trips()\n",
    "plot_top_hour_taxi(top_hour_taxi)"
   ]
  },
  {
   "cell_type": "markdown",
   "id": "6c555860",
   "metadata": {},
   "source": [
    "### Visualization 2\n",
    "\n",
    "Create a visualization of the 90% confidence interval and the mean of the average distance traveled per month."
   ]
  },
  {
   "cell_type": "code",
   "execution_count": 395,
   "id": "24e2e1cc",
   "metadata": {},
   "outputs": [
    {
     "data": {
      "application/javascript": [
       "\n",
       "            setTimeout(function() {\n",
       "                var nbb_cell_id = 395;\n",
       "                var nbb_unformatted_code = \"def plot_avg_monthly_dist(dataframe):\\n    figure, axes = plt.subplots(figsize=(20, 10))\\n\\n    z = 1.645\\n    horizontal_line_width = 0.2\\n\\n    stats = dataframe.groupby([\\\"month\\\"])[\\\"distance\\\"].agg([\\\"mean\\\", \\\"sem\\\"])\\n    stats[\\\"high\\\"] = stats[\\\"mean\\\"] + z * stats[\\\"sem\\\"]\\n    stats[\\\"low\\\"] = stats[\\\"mean\\\"] - z * stats[\\\"sem\\\"]\\n\\n    for i in range(12):\\n        left = i + 1 - horizontal_line_width / 2\\n        top = stats[\\\"high\\\"][i]\\n        right = i + 1 + horizontal_line_width / 2\\n        bottom = stats[\\\"low\\\"][i]\\n\\n        plt.plot([i + 1, i + 1], [top, bottom], color=\\\"lightpink\\\")\\n        plt.plot([left, right], [top, top], color=\\\"lightpink\\\")\\n        plt.plot([left, right], [bottom, bottom], color=\\\"lightpink\\\")\\n        plt.plot(i + 1, stats[\\\"mean\\\"][i], \\\"o\\\", color=\\\"salmon\\\")\\n\\n    plt.xticks(range(1, 13), dataframe[\\\"month\\\"].unique())\\n    plt.xlabel(\\\"Month\\\", fontsize=16)\\n    plt.ylabel(\\\"Distance/km\\\", fontsize=16)\\n\\n    plt.title(\\n        \\\"Mean and 90% Confidence Interval of Monthly Traveled Distance\\\", fontsize=18\\n    )\\n    plt.show()\";\n",
       "                var nbb_formatted_code = \"def plot_avg_monthly_dist(dataframe):\\n    figure, axes = plt.subplots(figsize=(20, 10))\\n\\n    z = 1.645\\n    horizontal_line_width = 0.2\\n\\n    stats = dataframe.groupby([\\\"month\\\"])[\\\"distance\\\"].agg([\\\"mean\\\", \\\"sem\\\"])\\n    stats[\\\"high\\\"] = stats[\\\"mean\\\"] + z * stats[\\\"sem\\\"]\\n    stats[\\\"low\\\"] = stats[\\\"mean\\\"] - z * stats[\\\"sem\\\"]\\n\\n    for i in range(12):\\n        left = i + 1 - horizontal_line_width / 2\\n        top = stats[\\\"high\\\"][i]\\n        right = i + 1 + horizontal_line_width / 2\\n        bottom = stats[\\\"low\\\"][i]\\n\\n        plt.plot([i + 1, i + 1], [top, bottom], color=\\\"lightpink\\\")\\n        plt.plot([left, right], [top, top], color=\\\"lightpink\\\")\\n        plt.plot([left, right], [bottom, bottom], color=\\\"lightpink\\\")\\n        plt.plot(i + 1, stats[\\\"mean\\\"][i], \\\"o\\\", color=\\\"salmon\\\")\\n\\n    plt.xticks(range(1, 13), dataframe[\\\"month\\\"].unique())\\n    plt.xlabel(\\\"Month\\\", fontsize=16)\\n    plt.ylabel(\\\"Distance/km\\\", fontsize=16)\\n\\n    plt.title(\\n        \\\"Mean and 90% Confidence Interval of Monthly Traveled Distance\\\", fontsize=18\\n    )\\n    plt.show()\";\n",
       "                var nbb_cells = Jupyter.notebook.get_cells();\n",
       "                for (var i = 0; i < nbb_cells.length; ++i) {\n",
       "                    if (nbb_cells[i].input_prompt_number == nbb_cell_id) {\n",
       "                        if (nbb_cells[i].get_text() == nbb_unformatted_code) {\n",
       "                             nbb_cells[i].set_text(nbb_formatted_code);\n",
       "                        }\n",
       "                        break;\n",
       "                    }\n",
       "                }\n",
       "            }, 500);\n",
       "            "
      ],
      "text/plain": [
       "<IPython.core.display.Javascript object>"
      ]
     },
     "metadata": {},
     "output_type": "display_data"
    }
   ],
   "source": [
    "def plot_avg_monthly_dist(dataframe):\n",
    "    \"\"\"Take in a dataframe containing distance data and create a confidence interval graph\"\"\"\n",
    "    figure, axes = plt.subplots(figsize=(20, 10))\n",
    "\n",
    "    z = 1.645\n",
    "    horizontal_line_width = 0.2\n",
    "\n",
    "    stats = dataframe.groupby([\"month\"])[\"distance\"].agg([\"mean\", \"sem\"])\n",
    "    stats[\"high\"] = stats[\"mean\"] + z * stats[\"sem\"]\n",
    "    stats[\"low\"] = stats[\"mean\"] - z * stats[\"sem\"]\n",
    "\n",
    "    for i in range(12):\n",
    "        left = i + 1 - horizontal_line_width / 2\n",
    "        top = stats[\"high\"][i]\n",
    "        right = i + 1 + horizontal_line_width / 2\n",
    "        bottom = stats[\"low\"][i]\n",
    "\n",
    "        plt.plot([i + 1, i + 1], [top, bottom], color=\"lightpink\")\n",
    "        plt.plot([left, right], [top, top], color=\"lightpink\")\n",
    "        plt.plot([left, right], [bottom, bottom], color=\"lightpink\")\n",
    "        plt.plot(i + 1, stats[\"mean\"][i], \"o\", color=\"salmon\")\n",
    "\n",
    "    plt.xticks(range(1, 13), dataframe[\"month\"].unique())\n",
    "    plt.xlabel(\"Month\", fontsize=16)\n",
    "    plt.ylabel(\"Distance/km\", fontsize=16)\n",
    "\n",
    "    plt.title(\n",
    "        \"Mean and 90% Confidence Interval of Monthly Traveled Distance\", fontsize=18\n",
    "    )\n",
    "    plt.show()"
   ]
  },
  {
   "cell_type": "code",
   "execution_count": 402,
   "id": "3f969022",
   "metadata": {},
   "outputs": [
    {
     "data": {
      "application/javascript": [
       "\n",
       "            setTimeout(function() {\n",
       "                var nbb_cell_id = 402;\n",
       "                var nbb_unformatted_code = \"def get_monthly_dist():\\n    \\\"\\\"\\\"Retrieve the monthly traveled distance data from the database and return a dataframe\\\"\\\"\\\"\\n    AVG_MONTHLY_DIST = \\\"\\\"\\\"\\n    WITH cte_monthly_dist AS (\\n    SELECT \\n    strftime('%m',  pickup_datetime) AS month,\\n    distance\\n    FROM taxi_trips\\n    UNION ALL \\n    SELECT \\n    strftime('%m',  pickup_datetime) AS month,\\n    distance\\n    FROM uber_trips\\n    )\\n    \\n    SELECT month, distance\\n    FROM cte_monthly_dist\\n    ORDER BY month ASC\\n    \\n    \\\"\\\"\\\"\\n    return pd.read_sql(AVG_MONTHLY_DIST, engine)\";\n",
       "                var nbb_formatted_code = \"def get_monthly_dist():\\n    \\\"\\\"\\\"Retrieve the monthly traveled distance data from the database and return a dataframe\\\"\\\"\\\"\\n    AVG_MONTHLY_DIST = \\\"\\\"\\\"\\n    WITH cte_monthly_dist AS (\\n    SELECT \\n    strftime('%m',  pickup_datetime) AS month,\\n    distance\\n    FROM taxi_trips\\n    UNION ALL \\n    SELECT \\n    strftime('%m',  pickup_datetime) AS month,\\n    distance\\n    FROM uber_trips\\n    )\\n    \\n    SELECT month, distance\\n    FROM cte_monthly_dist\\n    ORDER BY month ASC\\n    \\n    \\\"\\\"\\\"\\n    return pd.read_sql(AVG_MONTHLY_DIST, engine)\";\n",
       "                var nbb_cells = Jupyter.notebook.get_cells();\n",
       "                for (var i = 0; i < nbb_cells.length; ++i) {\n",
       "                    if (nbb_cells[i].input_prompt_number == nbb_cell_id) {\n",
       "                        if (nbb_cells[i].get_text() == nbb_unformatted_code) {\n",
       "                             nbb_cells[i].set_text(nbb_formatted_code);\n",
       "                        }\n",
       "                        break;\n",
       "                    }\n",
       "                }\n",
       "            }, 500);\n",
       "            "
      ],
      "text/plain": [
       "<IPython.core.display.Javascript object>"
      ]
     },
     "metadata": {},
     "output_type": "display_data"
    }
   ],
   "source": [
    "def get_monthly_dist():\n",
    "    \"\"\"Retrieve the monthly traveled distance data from the database and return a dataframe\"\"\"\n",
    "    AVG_MONTHLY_DIST = \"\"\"\n",
    "    WITH cte_monthly_dist AS (\n",
    "    SELECT \n",
    "    strftime('%m',  pickup_datetime) AS month,\n",
    "    distance\n",
    "    FROM taxi_trips\n",
    "    UNION ALL \n",
    "    SELECT \n",
    "    strftime('%m',  pickup_datetime) AS month,\n",
    "    distance\n",
    "    FROM uber_trips\n",
    "    )\n",
    "    \n",
    "    SELECT month, distance\n",
    "    FROM cte_monthly_dist\n",
    "    ORDER BY month ASC\n",
    "    \n",
    "    \"\"\"\n",
    "    return pd.read_sql(AVG_MONTHLY_DIST, engine)"
   ]
  },
  {
   "cell_type": "code",
   "execution_count": 397,
   "id": "3faae5e5",
   "metadata": {},
   "outputs": [
    {
     "data": {
      "image/png": "[encoded data removed]",
      "text/plain": [
       "<Figure size 2000x1000 with 1 Axes>"
      ]
     },
     "metadata": {},
     "output_type": "display_data"
    },
    {
     "data": {
      "application/javascript": [
       "\n",
       "            setTimeout(function() {\n",
       "                var nbb_cell_id = 397;\n",
       "                var nbb_unformatted_code = \"dist_mon = get_monthly_dist()\\nplot_avg_monthly_dist(dist_mon)\";\n",
       "                var nbb_formatted_code = \"dist_mon = get_monthly_dist()\\nplot_avg_monthly_dist(dist_mon)\";\n",
       "                var nbb_cells = Jupyter.notebook.get_cells();\n",
       "                for (var i = 0; i < nbb_cells.length; ++i) {\n",
       "                    if (nbb_cells[i].input_prompt_number == nbb_cell_id) {\n",
       "                        if (nbb_cells[i].get_text() == nbb_unformatted_code) {\n",
       "                             nbb_cells[i].set_text(nbb_formatted_code);\n",
       "                        }\n",
       "                        break;\n",
       "                    }\n",
       "                }\n",
       "            }, 500);\n",
       "            "
      ],
      "text/plain": [
       "<IPython.core.display.Javascript object>"
      ]
     },
     "metadata": {},
     "output_type": "display_data"
    }
   ],
   "source": [
    "dist_mon = get_monthly_dist()\n",
    "plot_avg_monthly_dist(dist_mon)"
   ]
  },
  {
   "cell_type": "markdown",
   "id": "31bdf9f8",
   "metadata": {},
   "source": [
    "### Visualization 3\n",
    "\n",
    "Define three lat/long coordinate boxes around the three major New York airports: LGA, JFK, and EWR using bboxfinder and create a visualization that compares what day of the week was most popular for drop offs for each airport."
   ]
  },
  {
   "cell_type": "code",
   "execution_count": 361,
   "id": "c08d4dbe",
   "metadata": {},
   "outputs": [
    {
     "data": {
      "application/javascript": [
       "\n",
       "            setTimeout(function() {\n",
       "                var nbb_cell_id = 361;\n",
       "                var nbb_unformatted_code = \"def remove_trips_oustide_coord(lat1, lon1, lat2, lon2, df):\\n    \\\"\\\"\\\"Take in the coordinates of the vertices and the dataframe to remove the dropoffs outside the required area\\\"\\\"\\\"\\n    # lat1 < lat2, lon1 < lon2\\n    df = df[(df[\\\"dropoff_latitude\\\"] >= lat1) & (df[\\\"dropoff_latitude\\\"] <= lat2)]\\n    df = df[(df[\\\"dropoff_longitude\\\"] >= lon1) & (df[\\\"dropoff_longitude\\\"] <= lon2)]\\n    \\n    return df\";\n",
       "                var nbb_formatted_code = \"def remove_trips_oustide_coord(lat1, lon1, lat2, lon2, df):\\n    \\\"\\\"\\\"Take in the coordinates of the vertices and the dataframe to remove the dropoffs outside the required area\\\"\\\"\\\"\\n    # lat1 < lat2, lon1 < lon2\\n    df = df[(df[\\\"dropoff_latitude\\\"] >= lat1) & (df[\\\"dropoff_latitude\\\"] <= lat2)]\\n    df = df[(df[\\\"dropoff_longitude\\\"] >= lon1) & (df[\\\"dropoff_longitude\\\"] <= lon2)]\\n\\n    return df\";\n",
       "                var nbb_cells = Jupyter.notebook.get_cells();\n",
       "                for (var i = 0; i < nbb_cells.length; ++i) {\n",
       "                    if (nbb_cells[i].input_prompt_number == nbb_cell_id) {\n",
       "                        if (nbb_cells[i].get_text() == nbb_unformatted_code) {\n",
       "                             nbb_cells[i].set_text(nbb_formatted_code);\n",
       "                        }\n",
       "                        break;\n",
       "                    }\n",
       "                }\n",
       "            }, 500);\n",
       "            "
      ],
      "text/plain": [
       "<IPython.core.display.Javascript object>"
      ]
     },
     "metadata": {},
     "output_type": "display_data"
    }
   ],
   "source": [
    "def remove_trips_oustide_coord(lat1, lon1, lat2, lon2, df):\n",
    "    \"\"\"Take in the coordinates of the vertices and the dataframe to remove the dropoffs outside the required area\"\"\"\n",
    "    # lat1 < lat2, lon1 < lon2\n",
    "    df = df[(df[\"dropoff_latitude\"] >= lat1) & (df[\"dropoff_latitude\"] <= lat2)]\n",
    "    df = df[(df[\"dropoff_longitude\"] >= lon1) & (df[\"dropoff_longitude\"] <= lon2)]\n",
    "\n",
    "    return df"
   ]
  },
  {
   "cell_type": "code",
   "execution_count": 399,
   "id": "d67b3273",
   "metadata": {},
   "outputs": [
    {
     "data": {
      "application/javascript": [
       "\n",
       "            setTimeout(function() {\n",
       "                var nbb_cell_id = 399;\n",
       "                var nbb_unformatted_code = \"def plot_airport_dropoff(dataframe):\\n    \\\"\\\"\\\"Take in the dataframe, determine the dropoff airport and plot the side-by-side bar chart\\\"\\\"\\\"\\n    figure, axes = plt.subplots(figsize=(20, 10))\\n    \\n    # define 3 coordinate boxes around LGA, JFK, EWR by bboxfinder\\n    LGA = [40.768089, -73.890587, 40.787588, -73.853851]\\n    JFK = [40.622465, -73.827567, 40.669354, -73.741050]\\n    EWR = [40.671293, -74.193137, 40.711643, -74.152453]\\n    \\n    # determining the dropoff location:\\n    # LGA\\n    df_LGA = remove_trips_oustide_coord(LGA[0], LGA[1], LGA[2], LGA[3], dataframe)\\n    df_LGA['airport'] = 'LGA'\\n    # JFK\\n    df_JFK = remove_trips_oustide_coord(JFK[0], JFK[1], JFK[2], JFK[3], dataframe)\\n    df_JFK['airport'] = 'JFK'\\n    # EWR\\n    df_EWR = remove_trips_oustide_coord(EWR[0], EWR[1], EWR[2], EWR[3], dataframe)\\n    df_EWR['airport'] = 'EWR'\\n\\n    new_df = pd.concat([df_LGA, df_JFK, df_EWR])\\n    \\n    sns.countplot(data=new_df, x=\\\"day\\\", hue=\\\"airport\\\", palette=\\\"rocket\\\")\\n    axes.set_title(\\\"Countplot of Daily Drops of Three Airports\\\", \\n                   fontsize=18)\\n    axes.set_xlabel('Weekday', fontsize=16)\\n    axes.set_ylabel(\\\"Trips\\\", fontsize=16)\\n    \\n    plt.show()\";\n",
       "                var nbb_formatted_code = \"def plot_airport_dropoff(dataframe):\\n    \\\"\\\"\\\"Take in the dataframe, determine the dropoff airport and plot the side-by-side bar chart\\\"\\\"\\\"\\n    figure, axes = plt.subplots(figsize=(20, 10))\\n\\n    # define 3 coordinate boxes around LGA, JFK, EWR by bboxfinder\\n    LGA = [40.768089, -73.890587, 40.787588, -73.853851]\\n    JFK = [40.622465, -73.827567, 40.669354, -73.741050]\\n    EWR = [40.671293, -74.193137, 40.711643, -74.152453]\\n\\n    # determining the dropoff location:\\n    # LGA\\n    df_LGA = remove_trips_oustide_coord(LGA[0], LGA[1], LGA[2], LGA[3], dataframe)\\n    df_LGA[\\\"airport\\\"] = \\\"LGA\\\"\\n    # JFK\\n    df_JFK = remove_trips_oustide_coord(JFK[0], JFK[1], JFK[2], JFK[3], dataframe)\\n    df_JFK[\\\"airport\\\"] = \\\"JFK\\\"\\n    # EWR\\n    df_EWR = remove_trips_oustide_coord(EWR[0], EWR[1], EWR[2], EWR[3], dataframe)\\n    df_EWR[\\\"airport\\\"] = \\\"EWR\\\"\\n\\n    new_df = pd.concat([df_LGA, df_JFK, df_EWR])\\n\\n    sns.countplot(data=new_df, x=\\\"day\\\", hue=\\\"airport\\\", palette=\\\"rocket\\\")\\n    axes.set_title(\\\"Countplot of Daily Drops of Three Airports\\\", fontsize=18)\\n    axes.set_xlabel(\\\"Weekday\\\", fontsize=16)\\n    axes.set_ylabel(\\\"Trips\\\", fontsize=16)\\n\\n    plt.show()\";\n",
       "                var nbb_cells = Jupyter.notebook.get_cells();\n",
       "                for (var i = 0; i < nbb_cells.length; ++i) {\n",
       "                    if (nbb_cells[i].input_prompt_number == nbb_cell_id) {\n",
       "                        if (nbb_cells[i].get_text() == nbb_unformatted_code) {\n",
       "                             nbb_cells[i].set_text(nbb_formatted_code);\n",
       "                        }\n",
       "                        break;\n",
       "                    }\n",
       "                }\n",
       "            }, 500);\n",
       "            "
      ],
      "text/plain": [
       "<IPython.core.display.Javascript object>"
      ]
     },
     "metadata": {},
     "output_type": "display_data"
    }
   ],
   "source": [
    "def plot_airport_dropoff(dataframe):\n",
    "    \"\"\"Take in the dataframe, determine the dropoff airport and plot the side-by-side bar chart\"\"\"\n",
    "    figure, axes = plt.subplots(figsize=(20, 10))\n",
    "\n",
    "    # define 3 coordinate boxes around LGA, JFK, EWR by bboxfinder\n",
    "    LGA = [40.768089, -73.890587, 40.787588, -73.853851]\n",
    "    JFK = [40.622465, -73.827567, 40.669354, -73.741050]\n",
    "    EWR = [40.671293, -74.193137, 40.711643, -74.152453]\n",
    "\n",
    "    # determining the dropoff location:\n",
    "    # LGA\n",
    "    df_LGA = remove_trips_oustide_coord(LGA[0], LGA[1], LGA[2], LGA[3], dataframe)\n",
    "    df_LGA[\"airport\"] = \"LGA\"\n",
    "    # JFK\n",
    "    df_JFK = remove_trips_oustide_coord(JFK[0], JFK[1], JFK[2], JFK[3], dataframe)\n",
    "    df_JFK[\"airport\"] = \"JFK\"\n",
    "    # EWR\n",
    "    df_EWR = remove_trips_oustide_coord(EWR[0], EWR[1], EWR[2], EWR[3], dataframe)\n",
    "    df_EWR[\"airport\"] = \"EWR\"\n",
    "\n",
    "    new_df = pd.concat([df_LGA, df_JFK, df_EWR])\n",
    "\n",
    "    sns.countplot(data=new_df, x=\"day\", hue=\"airport\", palette=\"rocket\")\n",
    "    axes.set_title(\"Countplot of Daily Drops of Three Airports\", fontsize=18)\n",
    "    axes.set_xlabel(\"Weekday\", fontsize=16)\n",
    "    axes.set_ylabel(\"Trips\", fontsize=16)\n",
    "\n",
    "    plt.show()"
   ]
  },
  {
   "cell_type": "code",
   "execution_count": 400,
   "id": "3df4060d",
   "metadata": {},
   "outputs": [
    {
     "data": {
      "application/javascript": [
       "\n",
       "            setTimeout(function() {\n",
       "                var nbb_cell_id = 400;\n",
       "                var nbb_unformatted_code = \"def get_dropoff_coord():\\n    \\\"\\\"\\\"Retrieved the required dropoff data from the database and return in a dataframe\\\"\\\"\\\"\\n    DROPOFF_COORD = '''\\n    WITH cte_dropoff_coord AS(\\n    SELECT \\n    strftime('%w',  pickup_datetime) AS day,  \\n    dropoff_longitude,\\n    dropoff_latitude \\n    FROM taxi_trips\\n    UNION ALL\\n    SELECT \\n    strftime('%w',  pickup_datetime) AS day,\\n    dropoff_longitude,\\n    dropoff_latitude \\n    FROM uber_trips\\n    )\\n    SELECT day, dropoff_longitude, dropoff_latitude  \\n    FROM cte_dropoff_coord\\n    ORDER BY day ASC\\n    '''\\n    return pd.read_sql(DROPOFF_COORD, engine)\";\n",
       "                var nbb_formatted_code = \"def get_dropoff_coord():\\n    \\\"\\\"\\\"Retrieved the required dropoff data from the database and return in a dataframe\\\"\\\"\\\"\\n    DROPOFF_COORD = \\\"\\\"\\\"\\n    WITH cte_dropoff_coord AS(\\n    SELECT \\n    strftime('%w',  pickup_datetime) AS day,  \\n    dropoff_longitude,\\n    dropoff_latitude \\n    FROM taxi_trips\\n    UNION ALL\\n    SELECT \\n    strftime('%w',  pickup_datetime) AS day,\\n    dropoff_longitude,\\n    dropoff_latitude \\n    FROM uber_trips\\n    )\\n    SELECT day, dropoff_longitude, dropoff_latitude  \\n    FROM cte_dropoff_coord\\n    ORDER BY day ASC\\n    \\\"\\\"\\\"\\n    return pd.read_sql(DROPOFF_COORD, engine)\";\n",
       "                var nbb_cells = Jupyter.notebook.get_cells();\n",
       "                for (var i = 0; i < nbb_cells.length; ++i) {\n",
       "                    if (nbb_cells[i].input_prompt_number == nbb_cell_id) {\n",
       "                        if (nbb_cells[i].get_text() == nbb_unformatted_code) {\n",
       "                             nbb_cells[i].set_text(nbb_formatted_code);\n",
       "                        }\n",
       "                        break;\n",
       "                    }\n",
       "                }\n",
       "            }, 500);\n",
       "            "
      ],
      "text/plain": [
       "<IPython.core.display.Javascript object>"
      ]
     },
     "metadata": {},
     "output_type": "display_data"
    }
   ],
   "source": [
    "def get_dropoff_coord():\n",
    "    \"\"\"Retrieved the required dropoff data from the database and return in a dataframe\"\"\"\n",
    "    DROPOFF_COORD = \"\"\"\n",
    "    WITH cte_dropoff_coord AS(\n",
    "    SELECT \n",
    "    strftime('%w',  pickup_datetime) AS day,  \n",
    "    dropoff_longitude,\n",
    "    dropoff_latitude \n",
    "    FROM taxi_trips\n",
    "    UNION ALL\n",
    "    SELECT \n",
    "    strftime('%w',  pickup_datetime) AS day,\n",
    "    dropoff_longitude,\n",
    "    dropoff_latitude \n",
    "    FROM uber_trips\n",
    "    )\n",
    "    SELECT day, dropoff_longitude, dropoff_latitude  \n",
    "    FROM cte_dropoff_coord\n",
    "    ORDER BY day ASC\n",
    "    \"\"\"\n",
    "    return pd.read_sql(DROPOFF_COORD, engine)"
   ]
  },
  {
   "cell_type": "code",
   "execution_count": 401,
   "id": "562ca348",
   "metadata": {},
   "outputs": [
    {
     "data": {
      "image/png": "[encoded data removed]",
      "text/plain": [
       "<Figure size 2000x1000 with 1 Axes>"
      ]
     },
     "metadata": {},
     "output_type": "display_data"
    },
    {
     "data": {
      "application/javascript": [
       "\n",
       "            setTimeout(function() {\n",
       "                var nbb_cell_id = 401;\n",
       "                var nbb_unformatted_code = \"dropoff_coord = get_dropoff_coord()\\nplot_airport_dropoff(dropoff_coord)\";\n",
       "                var nbb_formatted_code = \"dropoff_coord = get_dropoff_coord()\\nplot_airport_dropoff(dropoff_coord)\";\n",
       "                var nbb_cells = Jupyter.notebook.get_cells();\n",
       "                for (var i = 0; i < nbb_cells.length; ++i) {\n",
       "                    if (nbb_cells[i].input_prompt_number == nbb_cell_id) {\n",
       "                        if (nbb_cells[i].get_text() == nbb_unformatted_code) {\n",
       "                             nbb_cells[i].set_text(nbb_formatted_code);\n",
       "                        }\n",
       "                        break;\n",
       "                    }\n",
       "                }\n",
       "            }, 500);\n",
       "            "
      ],
      "text/plain": [
       "<IPython.core.display.Javascript object>"
      ]
     },
     "metadata": {},
     "output_type": "display_data"
    }
   ],
   "source": [
    "dropoff_coord = get_dropoff_coord()\n",
    "plot_airport_dropoff(dropoff_coord)"
   ]
  },
  {
   "cell_type": "code",
   "execution_count": null,
   "id": "42bdd525",
   "metadata": {},
   "outputs": [],
   "source": []
  }
 ],
 "metadata": {
  "kernelspec": {
   "display_name": "Python 3 (ipykernel)",
   "language": "python",
   "name": "python3"
  },
  "language_info": {
   "codemirror_mode": {
    "name": "ipython",
    "version": 3
   },
   "file_extension": ".py",
   "mimetype": "text/x-python",
   "name": "python",
   "nbconvert_exporter": "python",
   "pygments_lexer": "ipython3",
   "version": "3.9.9"
  }
 },
 "nbformat": 4,
 "nbformat_minor": 5
}
